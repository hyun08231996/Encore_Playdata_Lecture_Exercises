{
 "cells": [
  {
   "cell_type": "markdown",
   "metadata": {},
   "source": [
    "### 엔코아는 해당 사이트의 관리자 페이지 비밀번호를 어떻게 설정할지 고민하던중\n",
    "    요즘 많이 듣던 노래 윤하-비밀번호 486에서 영감을 받아 아래와 같이 비밀번호를 만들기로 했다.\n",
    "\n",
    "    4,6,8로 이루어진 숫자\n",
    "\n",
    "    숫자        문자열\n",
    "    -------------------\n",
    "     4            love\n",
    "    -------------------\n",
    "     8            smile\n",
    "    -------------------\n",
    "     6            kiss\n",
    "    -------------------\n",
    "    \n",
    "    예를 들어 48686 숫자가 입력으로 주어지면\n",
    "    lovesmilekisssmilekiss 비밀번호를 반환한다."
   ]
  },
  {
   "cell_type": "code",
   "execution_count": 2,
   "metadata": {},
   "outputs": [
    {
     "name": "stdout",
     "output_type": "stream",
     "text": [
      "숫자를 입력하세요>>>4,8,6\n",
      "lovesmilekiss\n"
     ]
    }
   ],
   "source": [
    "data = input('숫자를 입력하세요>>>').split(',')\n",
    "strList = ''\n",
    "for i in data:\n",
    "    if int(i) == 4:\n",
    "        strList += 'love'\n",
    "    elif int(i) == 8:\n",
    "        strList += 'smile'\n",
    "    elif int(i) == 6:\n",
    "        strList += 'kiss'\n",
    "    else:\n",
    "        print('4,8,6 중에서 입력하세요..')\n",
    "print(strList)"
   ]
  },
  {
   "cell_type": "code",
   "execution_count": 4,
   "metadata": {},
   "outputs": [],
   "source": [
    "def encorePass(nums):\n",
    "    my_dict = {\"4\":\"love\",\"8\":\"smile\",\"6\":\"kiss\"}\n",
    "    \n",
    "    ans = \"\"\n",
    "    \n",
    "    for i in nums:\n",
    "        if i==\"4\":\n",
    "            ans += my_dict[i]\n",
    "        elif i==\"8\":\n",
    "            ans += my_dict[i]\n",
    "        elif i==\"6\":\n",
    "            ans += my_dict[i]\n",
    "    return ans"
   ]
  },
  {
   "cell_type": "code",
   "execution_count": 5,
   "metadata": {},
   "outputs": [
    {
     "name": "stdout",
     "output_type": "stream",
     "text": [
      "48686\n",
      "lovesmilekisssmilekiss\n"
     ]
    }
   ],
   "source": [
    "nums = input()\n",
    "print(encorePass(nums))"
   ]
  },
  {
   "cell_type": "code",
   "execution_count": null,
   "metadata": {},
   "outputs": [],
   "source": []
  }
 ],
 "metadata": {
  "kernelspec": {
   "display_name": "Python 3",
   "language": "python",
   "name": "python3"
  },
  "language_info": {
   "codemirror_mode": {
    "name": "ipython",
    "version": 3
   },
   "file_extension": ".py",
   "mimetype": "text/x-python",
   "name": "python",
   "nbconvert_exporter": "python",
   "pygments_lexer": "ipython3",
   "version": "3.8.5"
  }
 },
 "nbformat": 4,
 "nbformat_minor": 4
}
