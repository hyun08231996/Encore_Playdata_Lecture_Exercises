{
 "cells": [
  {
   "cell_type": "code",
   "execution_count": null,
   "metadata": {},
   "outputs": [],
   "source": [
    "'''\n",
    "5개의 함수를 가지는 모듈\n",
    "getSum(data)\n",
    "getMean(data)\n",
    "getMax(data)\n",
    "getMin(data)\n",
    "\n",
    "getTwoSum(1,3)\n",
    "'''"
   ]
  },
  {
   "cell_type": "code",
   "execution_count": 11,
   "metadata": {},
   "outputs": [
    {
     "name": "stdout",
     "output_type": "stream",
     "text": [
      "Overwriting MyScoreMod.py\n"
     ]
    }
   ],
   "source": [
    "%%writefile MyScoreMod.py\n",
    "def getSum(data):\n",
    "    total = 0\n",
    "    \n",
    "    for i in data:\n",
    "        total += i\n",
    "    \n",
    "    return total\n",
    "\n",
    "def getMean(data):\n",
    "    return getSum(data) / len(data)\n",
    "\n",
    "def getMax(data):\n",
    "    maxVal = data[0]\n",
    "    \n",
    "    for i in data[1:]:\n",
    "        if i > maxVal:\n",
    "            maxVal = i\n",
    "    \n",
    "    return maxVal\n",
    "\n",
    "def getMin(data):\n",
    "    minVal = data[0]\n",
    "    \n",
    "    for i in data[1:]:\n",
    "        if i < minVal:\n",
    "            minVal = i\n",
    "    \n",
    "    return minVal\n",
    "\n",
    "def getTwoSum(num2, num1=1):\n",
    "    total = 0\n",
    "    \n",
    "    if num1>num2:\n",
    "        num1,num2 = num2,num1 #두수를 스왑시킴\n",
    "    \n",
    "    for i in range(num1, num2+1):\n",
    "        total += i\n",
    "    \n",
    "    return total"
   ]
  },
  {
   "cell_type": "code",
   "execution_count": null,
   "metadata": {},
   "outputs": [],
   "source": [
    "\n",
    "    "
   ]
  },
  {
   "cell_type": "code",
   "execution_count": null,
   "metadata": {},
   "outputs": [],
   "source": []
  },
  {
   "cell_type": "code",
   "execution_count": null,
   "metadata": {},
   "outputs": [],
   "source": []
  },
  {
   "cell_type": "code",
   "execution_count": null,
   "metadata": {},
   "outputs": [],
   "source": []
  },
  {
   "cell_type": "code",
   "execution_count": null,
   "metadata": {},
   "outputs": [],
   "source": []
  }
 ],
 "metadata": {
  "kernelspec": {
   "display_name": "Python 3",
   "language": "python",
   "name": "python3"
  },
  "language_info": {
   "codemirror_mode": {
    "name": "ipython",
    "version": 3
   },
   "file_extension": ".py",
   "mimetype": "text/x-python",
   "name": "python",
   "nbconvert_exporter": "python",
   "pygments_lexer": "ipython3",
   "version": "3.8.5"
  }
 },
 "nbformat": 4,
 "nbformat_minor": 4
}
