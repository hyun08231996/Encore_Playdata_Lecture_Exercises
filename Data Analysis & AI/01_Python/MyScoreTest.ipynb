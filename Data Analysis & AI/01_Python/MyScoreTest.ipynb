{
 "cells": [
  {
   "cell_type": "code",
   "execution_count": 1,
   "metadata": {},
   "outputs": [],
   "source": [
    "import MyScoreMod as ms\n",
    "from MyScoreMod import getSum,getMean,getMax,getMin,getTwoSum"
   ]
  },
  {
   "cell_type": "code",
   "execution_count": 2,
   "metadata": {},
   "outputs": [
    {
     "name": "stdout",
     "output_type": "stream",
     "text": [
      "값입력1,2,3\n",
      "[1, 2, 3]\n",
      "총합 : 6\n",
      "평균 : 2.0\n",
      "Maximum : 3\n",
      "Minimum : 1\n",
      "Two Sum:  6\n",
      "Two Sum:  6\n",
      "__main__\n"
     ]
    }
   ],
   "source": [
    "dataL = input('값입력').split(',') #1,2,3\n",
    "# print(dataL) #['1', '2', '3']\n",
    "\n",
    "intDataL = [int(i) for i in dataL] #int로 변환한 리스트\n",
    "print(intDataL) #[1, 2, 3]\n",
    "\n",
    "res = getSum(intDataL)\n",
    "print('총합 :',res)\n",
    "\n",
    "avg = getMean(intDataL)\n",
    "print('평균 :', avg)\n",
    "\n",
    "maxVal = getMax(intDataL)\n",
    "print('Maximum :', maxVal)\n",
    "\n",
    "minVal = getMin(intDataL)\n",
    "print('Minimum :', minVal)\n",
    "\n",
    "twoSum = getTwoSum(3,1)\n",
    "print('Two Sum: ', twoSum)\n",
    "print('Two Sum: ', getTwoSum(3))\n",
    "\n",
    "'''\n",
    "__name__ 변수란?\n",
    "\n",
    "파이썬에서 __name__ 변수는 내부적으로 사용되는 특별한 변수이다\n",
    "지금처럼 직접적으로 실행되는 파일의 __name__ 변수값에는 __main__ 이름이 저장된다\n",
    "반대로 간접적으로(import 되어진) 실행되는 파일은 모듈명이 저장된다\n",
    "\n",
    "'''\n",
    "\n",
    "if __name__ == \"__main__\": #직접 실행되고있는 파일이라면\n",
    "    print(__name__)\n",
    "    "
   ]
  }
 ],
 "metadata": {
  "kernelspec": {
   "display_name": "Python 3",
   "language": "python",
   "name": "python3"
  },
  "language_info": {
   "codemirror_mode": {
    "name": "ipython",
    "version": 3
   },
   "file_extension": ".py",
   "mimetype": "text/x-python",
   "name": "python",
   "nbconvert_exporter": "python",
   "pygments_lexer": "ipython3",
   "version": "3.8.5"
  }
 },
 "nbformat": 4,
 "nbformat_minor": 4
}
