{
 "cells": [
  {
   "cell_type": "markdown",
   "metadata": {},
   "source": [
    "### 랜덤함수와 seed 값 설정하기\n",
    "    seed값은 한번만 설정해주면 계속 적용된다.\n",
    "    시드는 보통 현재시각등을 이용해서 자동으로 정해지지만\n",
    "    우리가 수동으로도 설정할 수 있다.\n",
    "    특정한 시드값이 사용되면 그 다음에 만들어지는 난수들을 예측할 수 있다."
   ]
  },
  {
   "cell_type": "code",
   "execution_count": 1,
   "metadata": {},
   "outputs": [],
   "source": [
    "import numpy as np"
   ]
  },
  {
   "cell_type": "code",
   "execution_count": 6,
   "metadata": {},
   "outputs": [
    {
     "name": "stdout",
     "output_type": "stream",
     "text": [
      "[[ 1.76405235  0.40015721  0.97873798  2.2408932 ]\n",
      " [ 1.86755799 -0.97727788  0.95008842 -0.15135721]\n",
      " [-0.10321885  0.4105985   0.14404357  1.45427351]\n",
      " [ 0.76103773  0.12167502  0.44386323  0.33367433]]\n"
     ]
    }
   ],
   "source": [
    "np.random.seed(0)\n",
    "\n",
    "arr1 = np.random.randn(4,4)\n",
    "print(arr1)"
   ]
  },
  {
   "cell_type": "code",
   "execution_count": 9,
   "metadata": {},
   "outputs": [
    {
     "data": {
      "text/plain": [
       "array([[1, 2, 3],\n",
       "       [4, 5, 6],\n",
       "       [7, 8, 9]])"
      ]
     },
     "execution_count": 9,
     "metadata": {},
     "output_type": "execute_result"
    }
   ],
   "source": [
    "arr2 = np.arange(1,10)\n",
    "arr2\n",
    "\n",
    "arr3 = np.arange(1,10).reshape(3,3)\n",
    "arr3"
   ]
  },
  {
   "cell_type": "markdown",
   "metadata": {},
   "source": [
    "### 인덱싱, 슬라이싱"
   ]
  },
  {
   "cell_type": "code",
   "execution_count": 10,
   "metadata": {},
   "outputs": [
    {
     "data": {
      "text/plain": [
       "array([0, 1, 2, 3, 4])"
      ]
     },
     "execution_count": 10,
     "metadata": {},
     "output_type": "execute_result"
    }
   ],
   "source": [
    "narray = np.arange(5)\n",
    "narray"
   ]
  },
  {
   "cell_type": "code",
   "execution_count": 14,
   "metadata": {},
   "outputs": [
    {
     "name": "stdout",
     "output_type": "stream",
     "text": [
      "1 4\n",
      "[1 2 3 4]\n",
      "[0 1 2 3 4]\n",
      "[2 3]\n"
     ]
    }
   ],
   "source": [
    "# 1. 인덱싱, 슬라이싱으로 값 추출하기\n",
    "print(narray[1],narray[-1]) #1  4\n",
    "print(narray[1:]) # 1234\n",
    "print(narray[:]) # 01234\n",
    "print(narray[2:-1]) # 23"
   ]
  },
  {
   "cell_type": "code",
   "execution_count": 20,
   "metadata": {},
   "outputs": [
    {
     "data": {
      "text/plain": [
       "array([[14, 13, 14, 14],\n",
       "       [18, 14, 13, 17],\n",
       "       [15, 15, 10, 11],\n",
       "       [15, 19, 13, 10]])"
      ]
     },
     "execution_count": 20,
     "metadata": {},
     "output_type": "execute_result"
    }
   ],
   "source": [
    "narray2 = np.random.randint(10,20,16).reshape(4,4)\n",
    "narray2"
   ]
  },
  {
   "cell_type": "code",
   "execution_count": 33,
   "metadata": {},
   "outputs": [
    {
     "data": {
      "text/plain": [
       "array([[13, 14],\n",
       "       [14, 13],\n",
       "       [15, 10],\n",
       "       [19, 13]])"
      ]
     },
     "execution_count": 33,
     "metadata": {},
     "output_type": "execute_result"
    }
   ],
   "source": [
    "# 1) naaray2 중에서 첫번째 행의 세번째 값 14를 가져오려면?\n",
    "narray2[0][2]\n",
    "narray2[0,2]\n",
    "\n",
    "# 2) 2번째 라인 [18, 14, 13, 17] 전체를 출력\n",
    "narray2[1:2, 0:4] #2차원으로 출력\n",
    "narray2[1:2, :] #2차원으로 출력\n",
    "narray2[1, :] #1차원으로 출력\n",
    "\n",
    "# 3) 전체 행에 대해서 4번째 열을 출력\n",
    "narray2[0:4, 3:4]\n",
    "narray2[:, 3:]\n",
    "narray2[:,3]\n",
    "\n",
    "# 4) 전체 행에 대해서 2,3번째 열을 출력\n",
    "narray2[:, 1:3]"
   ]
  },
  {
   "cell_type": "markdown",
   "metadata": {},
   "source": [
    "### 인덱싱과 조건 슬라이싱"
   ]
  },
  {
   "cell_type": "code",
   "execution_count": 37,
   "metadata": {},
   "outputs": [
    {
     "data": {
      "text/plain": [
       "array([[1.76405235, 0.40015721, 0.97873798, 2.2408932 ],\n",
       "       [1.86755799, 0.        , 0.95008842, 0.        ],\n",
       "       [0.        , 0.4105985 , 0.14404357, 1.45427351],\n",
       "       [0.76103773, 0.12167502, 0.44386323, 0.33367433]])"
      ]
     },
     "execution_count": 37,
     "metadata": {},
     "output_type": "execute_result"
    }
   ],
   "source": [
    "arr1\n",
    "# 1. 논리연산자 사용해서 값을 받아오거나 값을 변경\n",
    "\n",
    "arr1[arr1>0]\n",
    "arr1[arr1<0]\n",
    "arr1[arr1<0] = 0\n",
    "#원본도 함께 바뀐다\n",
    "arr1"
   ]
  },
  {
   "cell_type": "code",
   "execution_count": 38,
   "metadata": {},
   "outputs": [
    {
     "data": {
      "text/plain": [
       "array([[ 1.76405235,  0.40015721,  0.97873798,  2.2408932 ],\n",
       "       [ 1.86755799, -1.        ,  0.95008842, -1.        ],\n",
       "       [-1.        ,  0.4105985 ,  0.14404357,  1.45427351],\n",
       "       [ 0.76103773,  0.12167502,  0.44386323,  0.33367433]])"
      ]
     },
     "execution_count": 38,
     "metadata": {},
     "output_type": "execute_result"
    }
   ],
   "source": [
    "# 2. where 함수\n",
    "arr1_1 = np.where(arr1>0, arr1, -1) #(if, input, else)\n",
    "arr1_1"
   ]
  },
  {
   "cell_type": "code",
   "execution_count": 40,
   "metadata": {},
   "outputs": [
    {
     "data": {
      "text/plain": [
       "array([3, 4, 5, 6])"
      ]
     },
     "execution_count": 40,
     "metadata": {},
     "output_type": "execute_result"
    }
   ],
   "source": [
    "# 3. 1,2 가지고 응용하기\n",
    "arr2 = np.array([[1,2],[3,4],[5,6]])\n",
    "arr2[arr2>2]"
   ]
  },
  {
   "cell_type": "code",
   "execution_count": 42,
   "metadata": {},
   "outputs": [
    {
     "name": "stdout",
     "output_type": "stream",
     "text": [
      "[[False False]\n",
      " [ True  True]\n",
      " [ True  True]]\n",
      "[3 4 5 6]\n"
     ]
    }
   ],
   "source": [
    "bool_idx = arr2>2\n",
    "print(bool_idx)\n",
    "\n",
    "print(arr2[bool_idx])"
   ]
  },
  {
   "cell_type": "markdown",
   "metadata": {},
   "source": [
    "### 통계함수\n",
    "    sum, mean, max, min, argmin, argmax, cumsum"
   ]
  },
  {
   "cell_type": "code",
   "execution_count": 43,
   "metadata": {},
   "outputs": [
    {
     "data": {
      "text/plain": [
       "array([[14, 13, 14, 14],\n",
       "       [18, 14, 13, 17],\n",
       "       [15, 15, 10, 11],\n",
       "       [15, 19, 13, 10]])"
      ]
     },
     "execution_count": 43,
     "metadata": {},
     "output_type": "execute_result"
    }
   ],
   "source": [
    "narray2\n"
   ]
  },
  {
   "cell_type": "code",
   "execution_count": 46,
   "metadata": {},
   "outputs": [
    {
     "name": "stdout",
     "output_type": "stream",
     "text": [
      "[55 62 51 57]\n",
      "[62 61 50 52]\n"
     ]
    }
   ],
   "source": [
    "np.sum(narray2)\n",
    "# axis=1 -> 행, axis=0 -> 열\n",
    "print(np.sum(narray2, axis=1)) # 모든 열을 다 더했다\n",
    "print(np.sum(narray2, axis=0)) # 모든 행을 다 더했다"
   ]
  },
  {
   "cell_type": "code",
   "execution_count": null,
   "metadata": {},
   "outputs": [],
   "source": []
  }
 ],
 "metadata": {
  "kernelspec": {
   "display_name": "Python 3",
   "language": "python",
   "name": "python3"
  },
  "language_info": {
   "codemirror_mode": {
    "name": "ipython",
    "version": 3
   },
   "file_extension": ".py",
   "mimetype": "text/x-python",
   "name": "python",
   "nbconvert_exporter": "python",
   "pygments_lexer": "ipython3",
   "version": "3.8.5"
  }
 },
 "nbformat": 4,
 "nbformat_minor": 4
}
