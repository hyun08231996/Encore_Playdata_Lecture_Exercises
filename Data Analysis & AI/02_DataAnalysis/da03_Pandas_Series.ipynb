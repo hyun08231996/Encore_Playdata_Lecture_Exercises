{
 "cells": [
  {
   "cell_type": "markdown",
   "metadata": {},
   "source": [
    "### Pandas\n",
    "    Pandas는 Panel Datas의 약자\n",
    "    파이썬을 이용한 데이터 분석에서 가장 많이 사용되는 라이브러리\n",
    "    Numpy기반으로 만들어졌다\n",
    "    \n",
    "    Pandas 자료구조\n",
    "    1. Series - 1차원 배열(벡터)\n",
    "    \n",
    "    2. DataFrame - 2차원 배열(메트릭스) 가장 중요(표형식)\n",
    "    \n",
    "    3. Panel - 3차원(대상아님)"
   ]
  },
  {
   "cell_type": "markdown",
   "metadata": {},
   "source": [
    "#### Series\n",
    "    시리즈 생성, 구조확인\n",
    "    "
   ]
  },
  {
   "cell_type": "code",
   "execution_count": 1,
   "metadata": {},
   "outputs": [],
   "source": [
    "import numpy as np\n",
    "import pandas as pd\n",
    "from pandas import Series, DataFrame\n",
    "import matplotlib.pyplot as plt"
   ]
  },
  {
   "cell_type": "code",
   "execution_count": 2,
   "metadata": {},
   "outputs": [],
   "source": [
    "Series?"
   ]
  },
  {
   "cell_type": "code",
   "execution_count": 8,
   "metadata": {},
   "outputs": [
    {
     "name": "stdout",
     "output_type": "stream",
     "text": [
      "a    17\n",
      "b    19\n",
      "c    15\n",
      "d    14\n",
      "e    18\n",
      "dtype: int32\n",
      "Index(['a', 'b', 'c', 'd', 'e'], dtype='object')\n",
      "[17 19 15 14 18]\n",
      "int32\n"
     ]
    }
   ],
   "source": [
    "'''\n",
    "index 속성없이 시리즈를 생성하면\n",
    "인덱스는 자동적으로 0~N-1까지 정수로 잡힌다.\n",
    "\n",
    "'''\n",
    "ser1 = Series(np.random.randint(10,20,5), index=list('abcde'))\n",
    "print(ser1)\n",
    "print(ser1.index)\n",
    "print(ser1.values)\n",
    "print(ser1.dtype)"
   ]
  },
  {
   "cell_type": "markdown",
   "metadata": {},
   "source": [
    "### 시리즈 값 조회하기\n",
    "    단일값을 선택하거나 여러값을 선택할때\n",
    "    1) 인덱스로 라벨을 사용할 수 있다.\n",
    "    \n",
    "    2) 슬라이싱 방법\n",
    "        - 라벨사용 : 마지막 라벨도 포함됨 ['a' : 'd'] ->a,b,c,d 다 출력\n",
    "        - 숫자사용 : 마지막 숫자 포함 안됨 [0 : 3] -> 0,1,2만 출력"
   ]
  },
  {
   "cell_type": "code",
   "execution_count": 12,
   "metadata": {},
   "outputs": [
    {
     "data": {
      "text/plain": [
       "a    17\n",
       "b    19\n",
       "c    15\n",
       "d    14\n",
       "e    18\n",
       "dtype: int32"
      ]
     },
     "execution_count": 12,
     "metadata": {},
     "output_type": "execute_result"
    }
   ],
   "source": [
    "ser1"
   ]
  },
  {
   "cell_type": "code",
   "execution_count": 14,
   "metadata": {},
   "outputs": [
    {
     "name": "stdout",
     "output_type": "stream",
     "text": [
      "17\n",
      "17\n"
     ]
    }
   ],
   "source": [
    "# 1)\n",
    "print(ser1[0])\n",
    "print(ser1['a'])"
   ]
  },
  {
   "cell_type": "code",
   "execution_count": 16,
   "metadata": {},
   "outputs": [
    {
     "name": "stdout",
     "output_type": "stream",
     "text": [
      "b    19\n",
      "c    15\n",
      "d    14\n",
      "dtype: int32\n",
      "b    19\n",
      "c    15\n",
      "d    14\n",
      "dtype: int32\n"
     ]
    }
   ],
   "source": [
    "# 2)\n",
    "print(ser1[1:4])\n",
    "print(ser1['b':'d'])"
   ]
  },
  {
   "cell_type": "code",
   "execution_count": 22,
   "metadata": {},
   "outputs": [
    {
     "name": "stdout",
     "output_type": "stream",
     "text": [
      "a    17\n",
      "b    19\n",
      "c    15\n",
      "d    14\n",
      "e    18\n",
      "dtype: int32\n",
      "a    17\n",
      "c    15\n",
      "e    18\n",
      "dtype: int32\n"
     ]
    }
   ],
   "source": [
    "# 응용해서 조회하기\n",
    "ser1[:2]\n",
    "print(ser1)\n",
    "ser1_1 = ser1[::2] # step 2, a,c,e 출력\n",
    "print(ser1_1)"
   ]
  },
  {
   "cell_type": "code",
   "execution_count": 23,
   "metadata": {},
   "outputs": [
    {
     "name": "stdout",
     "output_type": "stream",
     "text": [
      "a    34.0\n",
      "b     NaN\n",
      "c    30.0\n",
      "d     NaN\n",
      "e    36.0\n",
      "dtype: float64\n"
     ]
    }
   ],
   "source": [
    "# 시리즈 간의 연산\n",
    "\n",
    "resSer = ser1+ser1_1 # ser1_1에는 b,d 라벨에 데이터가 없다 (결측값, 누락데이터) 그래서 NaN이 나온다\n",
    "print(resSer)"
   ]
  },
  {
   "cell_type": "markdown",
   "metadata": {},
   "source": [
    "### 누락 데이터 조회하기\n",
    "    isnull() notnull()"
   ]
  },
  {
   "cell_type": "code",
   "execution_count": 24,
   "metadata": {},
   "outputs": [
    {
     "data": {
      "text/plain": [
       "a    34.0\n",
       "b     NaN\n",
       "c    30.0\n",
       "d     NaN\n",
       "e    36.0\n",
       "dtype: float64"
      ]
     },
     "execution_count": 24,
     "metadata": {},
     "output_type": "execute_result"
    }
   ],
   "source": [
    "resSer"
   ]
  },
  {
   "cell_type": "code",
   "execution_count": 28,
   "metadata": {},
   "outputs": [
    {
     "name": "stdout",
     "output_type": "stream",
     "text": [
      "a    False\n",
      "b     True\n",
      "c    False\n",
      "d     True\n",
      "e    False\n",
      "dtype: bool\n",
      "b   NaN\n",
      "d   NaN\n",
      "dtype: float64\n",
      "******************************\n",
      "a     True\n",
      "b    False\n",
      "c     True\n",
      "d    False\n",
      "e     True\n",
      "dtype: bool\n",
      "a    34.0\n",
      "c    30.0\n",
      "e    36.0\n",
      "dtype: float64\n",
      "******************************\n",
      "2\n"
     ]
    }
   ],
   "source": [
    "print(resSer.isnull())\n",
    "print(resSer[resSer.isnull()])\n",
    "print('*'*30)\n",
    "print(resSer.notnull())\n",
    "print(resSer[resSer.notnull()])\n",
    "print('*'*30)\n",
    "print(resSer.isnull().sum())"
   ]
  },
  {
   "cell_type": "markdown",
   "metadata": {},
   "source": [
    "### Pandas를 이용한 시각화\n",
    "#### 누락데이터가 아닌 데이터를 한눈에 보여준다"
   ]
  },
  {
   "cell_type": "code",
   "execution_count": 32,
   "metadata": {},
   "outputs": [
    {
     "data": {
      "image/png": "[encoded data removed]",
      "text/plain": [
       "<Figure size 432x288 with 1 Axes>"
      ]
     },
     "metadata": {
      "needs_background": "light"
     },
     "output_type": "display_data"
    }
   ],
   "source": [
    "resSer[resSer.notnull()].plot(kind='bar')\n",
    "#resSer[resSer.isnull()].plot(kind='bar') # no numric data to plot\n",
    "plt.show()"
   ]
  },
  {
   "cell_type": "code",
   "execution_count": null,
   "metadata": {},
   "outputs": [],
   "source": []
  },
  {
   "cell_type": "code",
   "execution_count": null,
   "metadata": {},
   "outputs": [],
   "source": []
  },
  {
   "cell_type": "code",
   "execution_count": null,
   "metadata": {},
   "outputs": [],
   "source": []
  },
  {
   "cell_type": "code",
   "execution_count": null,
   "metadata": {},
   "outputs": [],
   "source": []
  },
  {
   "cell_type": "code",
   "execution_count": null,
   "metadata": {},
   "outputs": [],
   "source": []
  },
  {
   "cell_type": "code",
   "execution_count": null,
   "metadata": {},
   "outputs": [],
   "source": []
  }
 ],
 "metadata": {
  "kernelspec": {
   "display_name": "Python 3",
   "language": "python",
   "name": "python3"
  },
  "language_info": {
   "codemirror_mode": {
    "name": "ipython",
    "version": 3
   },
   "file_extension": ".py",
   "mimetype": "text/x-python",
   "name": "python",
   "nbconvert_exporter": "python",
   "pygments_lexer": "ipython3",
   "version": "3.8.5"
  }
 },
 "nbformat": 4,
 "nbformat_minor": 4
}
