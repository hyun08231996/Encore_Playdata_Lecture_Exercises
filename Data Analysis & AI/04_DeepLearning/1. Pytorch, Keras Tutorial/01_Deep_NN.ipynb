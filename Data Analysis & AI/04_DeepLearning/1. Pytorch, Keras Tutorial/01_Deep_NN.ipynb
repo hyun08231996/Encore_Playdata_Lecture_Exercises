{
 "cells": [
  {
   "cell_type": "code",
   "execution_count": 2,
   "metadata": {},
   "outputs": [],
   "source": [
    "#pytorch 프레임워크 불러오는 부분\n",
    "import torch\n",
    "import torchvision # image processing에 특화된 라이브러리\n",
    "import torch.nn as nn\n",
    "import torchvision.transforms as transforms # Data Augmentation\n",
    "import numpy as np"
   ]
  },
  {
   "cell_type": "code",
   "execution_count": 5,
   "metadata": {},
   "outputs": [
    {
     "data": {
      "text/plain": [
       "tensor([[1., 2., 3.],\n",
       "        [4., 5., 6.]])"
      ]
     },
     "execution_count": 5,
     "metadata": {},
     "output_type": "execute_result"
    }
   ],
   "source": [
    "X = torch.Tensor(2,3) # 2행 3열의 텐서를 하나 생성\n",
    "X.shape\n",
    "X.size()\n",
    "\n",
    "X = torch.Tensor([[1,2,3],[4,5,6]])\n",
    "X"
   ]
  },
  {
   "cell_type": "code",
   "execution_count": 8,
   "metadata": {},
   "outputs": [
    {
     "data": {
      "text/plain": [
       "tensor([3., 4.])"
      ]
     },
     "execution_count": 8,
     "metadata": {},
     "output_type": "execute_result"
    }
   ],
   "source": [
    "'''\n",
    "tensor() 인자값으로\n",
    "data \n",
    "dtype\n",
    "requires_grad : tensor에 대해서 미준 적용할지 여부\n",
    "\n",
    "'''\n",
    "\n",
    "x = torch.tensor(data=[2.0,3.0], requires_grad=True)\n",
    "x\n",
    "\n",
    "y=x**2\n",
    "y\n",
    "\n",
    "pred = 2*y + 3\n",
    "pred\n",
    "\n",
    "target = torch.tensor([3.0,4.0])\n",
    "target"
   ]
  },
  {
   "cell_type": "code",
   "execution_count": null,
   "metadata": {},
   "outputs": [],
   "source": [
    "'''\n",
    "위에서 나온 결과를 바탕으로\n",
    "경사하강법을 이용해서\n",
    "미분을 사용해서 Loss에 대한 책임을 묻겠다\n",
    "기울기가 계산이 될 것이다. (미분 계산)\n",
    "--> BackPropagation을 적용하려면 backward() 함수를 호출\n",
    "\n",
    "Loss 를 줄여나가 보겠다\n",
    "'''"
   ]
  },
  {
   "cell_type": "code",
   "execution_count": 9,
   "metadata": {},
   "outputs": [
    {
     "name": "stdout",
     "output_type": "stream",
     "text": [
      "Loss tensor(25., grad_fn=<SumBackward0>)\n"
     ]
    }
   ],
   "source": [
    "loss = torch.sum(torch.abs(pred - target))\n",
    "print('Loss', loss)"
   ]
  },
  {
   "cell_type": "code",
   "execution_count": 10,
   "metadata": {},
   "outputs": [],
   "source": [
    "loss.backward()"
   ]
  },
  {
   "cell_type": "code",
   "execution_count": 12,
   "metadata": {},
   "outputs": [
    {
     "name": "stdout",
     "output_type": "stream",
     "text": [
      "tensor([ 8., 12.]) None\n"
     ]
    },
    {
     "name": "stderr",
     "output_type": "stream",
     "text": [
      "<ipython-input-12-f0cd9ca8c1fa>:1: UserWarning: The .grad attribute of a Tensor that is not a leaf Tensor is being accessed. Its .grad attribute won't be populated during autograd.backward(). If you indeed want the gradient for a non-leaf Tensor, use .retain_grad() on the non-leaf Tensor. If you access the non-leaf Tensor by mistake, make sure you access the leaf Tensor instead. See github.com/pytorch/pytorch/pull/30531 for more informations.\n",
      "  print(x.grad,pred.grad)\n"
     ]
    }
   ],
   "source": [
    "print(x.grad,pred.grad)"
   ]
  },
  {
   "cell_type": "markdown",
   "metadata": {},
   "source": [
    "### Create Tensor ....Using NeuralNet"
   ]
  },
  {
   "cell_type": "code",
   "execution_count": 13,
   "metadata": {},
   "outputs": [
    {
     "name": "stdout",
     "output_type": "stream",
     "text": [
      "tensor([[ 0.7693, -1.1692,  2.2797],\n",
      "        [-0.5503,  0.1910,  0.8762],\n",
      "        [ 0.2180,  0.3191, -0.9460],\n",
      "        [-0.4939,  1.5984, -0.4985],\n",
      "        [ 0.4176, -0.0133, -1.1790],\n",
      "        [-0.3029,  0.9968, -1.1196],\n",
      "        [ 0.2542,  0.8102,  0.7982],\n",
      "        [ 0.1203,  1.4062,  0.2247],\n",
      "        [ 0.8972, -1.2176, -0.6021],\n",
      "        [-0.6120, -0.1817,  2.3816]])\n",
      "tensor([[-1.6135,  1.0082],\n",
      "        [ 0.0819, -1.0606],\n",
      "        [ 0.9675,  0.0838],\n",
      "        [ 0.2345,  0.9511],\n",
      "        [-0.4385,  1.0944],\n",
      "        [-0.0496, -0.6176],\n",
      "        [ 0.2707, -1.6344],\n",
      "        [-1.2317, -1.4497],\n",
      "        [ 0.7840, -0.5045],\n",
      "        [ 0.5300, -1.3521]])\n"
     ]
    }
   ],
   "source": [
    "x = torch.randn(10,3)\n",
    "y = torch.randn(10,2)\n",
    "print(x)\n",
    "print(y)"
   ]
  },
  {
   "cell_type": "code",
   "execution_count": 14,
   "metadata": {},
   "outputs": [
    {
     "name": "stdout",
     "output_type": "stream",
     "text": [
      "w Parameter containing:\n",
      "tensor([[-0.4674,  0.1884,  0.2226],\n",
      "        [ 0.2411, -0.3035,  0.5255]], requires_grad=True)\n",
      "b Parameter containing:\n",
      "tensor([-0.0695,  0.5430], requires_grad=True)\n"
     ]
    }
   ],
   "source": [
    "linear = nn.Linear(3,2)\n",
    "print('w',linear.weight)\n",
    "print('b',linear.bias)"
   ]
  },
  {
   "cell_type": "code",
   "execution_count": 19,
   "metadata": {},
   "outputs": [
    {
     "name": "stdout",
     "output_type": "stream",
     "text": [
      "<generator object Module.parameters at 0x000001D9D23C7F90>\n",
      "loss before step BackPropagation 1.8234293460845947\n"
     ]
    }
   ],
   "source": [
    "# 객체출력, parameters()함수는 모델안의 학습의 주체인 w, b를 내포하고 있는 객체\n",
    "# parameters() 함수는 w, b를 해킹한 함수이다.\n",
    "print(linear.parameters())\n",
    "\n",
    "# loss function을 미리 선정의 해두었다\n",
    "loss_function = nn.MSELoss()\n",
    "\n",
    "# optimizer(하산하는 방법)를 미리 정의\n",
    "optimizer = torch.optim.SGD(linear.parameters(), lr=0.01)\n",
    "\n",
    "#위에서 만든 모델에 값을 입력...결과로 예측값이 나온다\n",
    "pred = linear(x)\n",
    "\n",
    "# 정답과 예측값을 이용해서 위에서 선정의한 Loss를 계산...L(W)\n",
    "loss = loss_function(pred,y)\n",
    "print('loss before step BackPropagation',loss.item())"
   ]
  },
  {
   "cell_type": "code",
   "execution_count": 20,
   "metadata": {},
   "outputs": [
    {
     "name": "stdout",
     "output_type": "stream",
     "text": [
      "dL/dW tensor([[-0.0890,  0.2034,  0.6488],\n",
      "        [ 0.0186, -0.0780,  1.5086]])\n",
      "dL/db tensor([0.0444, 0.9417])\n"
     ]
    }
   ],
   "source": [
    "'''\n",
    "loss값이 나왔다는 것은\n",
    "모델의 예측값에 대한 잘못을 정량화 했다는 것이다.\n",
    "\n",
    "이 값을 바탕으로 BackPropagation을 하면 w,b에 대한 미분값\n",
    "즉 얼마만큼 보정해야 하는지의 값이 나온다.\n",
    "그 값을 이용해서 다시 하강(기울기 수정)하기 때문에\n",
    "2번째에는 Loss가 줄어들어야 한다.\n",
    "'''\n",
    "loss.backward() #loss값에 대한 w의 책임을 묻는다...미분을 적용, grad\n",
    "print('dL/dW', linear.weight.grad)\n",
    "print('dL/db', linear.bias.grad)"
   ]
  },
  {
   "cell_type": "code",
   "execution_count": 22,
   "metadata": {},
   "outputs": [
    {
     "name": "stdout",
     "output_type": "stream",
     "text": [
      "loss after step BackPropagation 1.75180184841156\n"
     ]
    }
   ],
   "source": [
    "optimizer.step() # 위에서 수정된 값으로 하강을 진행한다...학습을 한다\n",
    "\n",
    "# 반복효과\n",
    "pred = linear(x)\n",
    "loss = loss_function(pred,y)\n",
    "\n",
    "print('loss after step BackPropagation',loss.item())"
   ]
  },
  {
   "cell_type": "code",
   "execution_count": null,
   "metadata": {},
   "outputs": [],
   "source": []
  },
  {
   "cell_type": "code",
   "execution_count": null,
   "metadata": {},
   "outputs": [],
   "source": []
  }
 ],
 "metadata": {
  "kernelspec": {
   "display_name": "Python 3",
   "language": "python",
   "name": "python3"
  },
  "language_info": {
   "codemirror_mode": {
    "name": "ipython",
    "version": 3
   },
   "file_extension": ".py",
   "mimetype": "text/x-python",
   "name": "python",
   "nbconvert_exporter": "python",
   "pygments_lexer": "ipython3",
   "version": "3.8.5"
  }
 },
 "nbformat": 4,
 "nbformat_minor": 4
}
