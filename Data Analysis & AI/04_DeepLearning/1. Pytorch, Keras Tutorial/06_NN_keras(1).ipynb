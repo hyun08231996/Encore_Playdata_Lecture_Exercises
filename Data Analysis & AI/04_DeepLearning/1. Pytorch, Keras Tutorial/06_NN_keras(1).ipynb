{
 "cells": [
  {
   "cell_type": "markdown",
   "metadata": {},
   "source": [
    "### Keras를 이용한 NN\n",
    "    가장 단순한 모델\n",
    "    입력 하나 - 출력 하나\n",
    "    레이어 없음\n",
    "    \n",
    "    케라스 모델 설계 진행순서\n",
    "    1) 데이터셋 생성\n",
    "    2) 시퀀스 모델 생성\n",
    "    3) compile() 사용해서 loss, optim 선정의\n",
    "       학습을 어떻게 할지를 정의\n",
    "    4) fit() 사용해서 학습을 진행\n",
    "    5) predict() 예측하기\n",
    "    6) evaluate() 평가하기\n",
    "    7) accuracy()"
   ]
  },
  {
   "cell_type": "code",
   "execution_count": null,
   "metadata": {},
   "outputs": [],
   "source": [
    "import numpy as np\n",
    "import keras"
   ]
  },
  {
   "cell_type": "code",
   "execution_count": null,
   "metadata": {},
   "outputs": [],
   "source": [
    "# 1)\n",
    "x = np.array([0,1,2,3,4])\n",
    "y = 2 * x + 1"
   ]
  },
  {
   "cell_type": "code",
   "execution_count": null,
   "metadata": {},
   "outputs": [],
   "source": []
  },
  {
   "cell_type": "code",
   "execution_count": null,
   "metadata": {},
   "outputs": [],
   "source": []
  }
 ],
 "metadata": {
  "kernelspec": {
   "display_name": "Python 3",
   "language": "python",
   "name": "python3"
  },
  "language_info": {
   "codemirror_mode": {
    "name": "ipython",
    "version": 3
   },
   "file_extension": ".py",
   "mimetype": "text/x-python",
   "name": "python",
   "nbconvert_exporter": "python",
   "pygments_lexer": "ipython3",
   "version": "3.8.5"
  }
 },
 "nbformat": 4,
 "nbformat_minor": 4
}
