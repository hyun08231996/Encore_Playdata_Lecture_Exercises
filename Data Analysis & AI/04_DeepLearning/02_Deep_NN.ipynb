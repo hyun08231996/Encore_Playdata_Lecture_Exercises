{
 "cells": [
  {
   "cell_type": "code",
   "execution_count": 1,
   "metadata": {},
   "outputs": [],
   "source": [
    "import torch\n",
    "import torch.nn as nn\n",
    "import numpy as np\n",
    "import matplotlib.pyplot as plt"
   ]
  },
  {
   "cell_type": "markdown",
   "metadata": {},
   "source": [
    "#### Hyper-Parameters"
   ]
  },
  {
   "cell_type": "code",
   "execution_count": 2,
   "metadata": {},
   "outputs": [],
   "source": [
    "input_size = 1 # 1차원 데이터\n",
    "output_size = 1 # 1차원 데이터\n",
    "num_epochs = 200 # 학습횟수\n",
    "learning_rate = 0.001"
   ]
  },
  {
   "cell_type": "markdown",
   "metadata": {},
   "source": [
    "#### Toy DataSets"
   ]
  },
  {
   "cell_type": "code",
   "execution_count": 3,
   "metadata": {},
   "outputs": [
    {
     "data": {
      "text/plain": [
       "array([[1.7  ],\n",
       "       [2.76 ],\n",
       "       [2.09 ],\n",
       "       [3.19 ],\n",
       "       [1.694],\n",
       "       [1.573],\n",
       "       [3.366],\n",
       "       [2.596],\n",
       "       [2.53 ],\n",
       "       [1.221],\n",
       "       [2.827],\n",
       "       [3.465],\n",
       "       [1.65 ],\n",
       "       [2.904],\n",
       "       [1.3  ]], dtype=float32)"
      ]
     },
     "execution_count": 3,
     "metadata": {},
     "output_type": "execute_result"
    }
   ],
   "source": [
    "x_train = np.array([[3.3], [4.4], [5.5], [6.71], [6.93], [4.168], \n",
    "                    [9.779], [6.182], [7.59], [2.167], [7.042], \n",
    "                    [10.791], [5.313], [7.997], [3.1]], dtype=np.float32)\n",
    "\n",
    "y_train = np.array([[1.7], [2.76], [2.09], [3.19], [1.694], [1.573], \n",
    "                    [3.366], [2.596], [2.53], [1.221], [2.827], \n",
    "                    [3.465], [1.65], [2.904], [1.3]], dtype=np.float32)\n",
    "\n",
    "x_train\n",
    "y_train"
   ]
  },
  {
   "cell_type": "code",
   "execution_count": 4,
   "metadata": {},
   "outputs": [
    {
     "data": {
      "text/plain": [
       "'\\n1. 모델생성\\n2. loss, optimizer 선정의\\n3. 모델에 데이터를 입력하고 그 결과로 예측값을 반환받는다.\\n4. 예측값이 반환되면 Loss를 알 수 있다 (이때 2변에 미리 정의된 loss 함수를 호출)\\n5. loss.backward() --> Loss에 대한 책임을 W에게 묻는다() --> 편미분이 적용된다.\\n6. 5번의 결과를 가지고 학습을 진행\\n\\n3~6번의 과정을 총 100번 진행한다. num_epochs = 100\\n\\n'"
      ]
     },
     "execution_count": 4,
     "metadata": {},
     "output_type": "execute_result"
    }
   ],
   "source": [
    "'''\n",
    "1. 모델생성\n",
    "2. loss, optimizer 선정의\n",
    "3. 모델에 데이터를 입력하고 그 결과로 예측값을 반환받는다.\n",
    "4. 예측값이 반환되면 Loss를 알 수 있다 (이때 2변에 미리 정의된 loss 함수를 호출)\n",
    "5. loss.backward() --> Loss에 대한 책임을 W에게 묻는다() --> 편미분이 적용된다.\n",
    "6. 5번의 결과를 가지고 학습을 진행\n",
    "\n",
    "3~6번의 과정을 총 100번 진행한다. num_epochs = 100\n",
    "\n",
    "'''"
   ]
  },
  {
   "cell_type": "markdown",
   "metadata": {},
   "source": [
    "#### Linear Regression Model"
   ]
  },
  {
   "cell_type": "code",
   "execution_count": 5,
   "metadata": {},
   "outputs": [],
   "source": [
    "model = nn.Linear(input_size,output_size)"
   ]
  },
  {
   "cell_type": "markdown",
   "metadata": {},
   "source": [
    "#### Loss Function and Optimizer"
   ]
  },
  {
   "cell_type": "code",
   "execution_count": 6,
   "metadata": {},
   "outputs": [],
   "source": [
    "loss_function = nn.MSELoss()\n",
    "optimizer = torch.optim.SGD(model.parameters(), lr=learning_rate)\n"
   ]
  },
  {
   "cell_type": "markdown",
   "metadata": {},
   "source": [
    "#### Train Model"
   ]
  },
  {
   "cell_type": "code",
   "execution_count": 7,
   "metadata": {},
   "outputs": [
    {
     "name": "stdout",
     "output_type": "stream",
     "text": [
      "Epoch[5/200], Loss:0.3499\n",
      "Epoch[10/200], Loss:0.3377\n",
      "Epoch[15/200], Loss:0.3325\n",
      "Epoch[20/200], Loss:0.3302\n",
      "Epoch[25/200], Loss:0.3290\n",
      "Epoch[30/200], Loss:0.3283\n",
      "Epoch[35/200], Loss:0.3277\n",
      "Epoch[40/200], Loss:0.3273\n",
      "Epoch[45/200], Loss:0.3268\n",
      "Epoch[50/200], Loss:0.3264\n",
      "Epoch[55/200], Loss:0.3260\n",
      "Epoch[60/200], Loss:0.3256\n",
      "Epoch[65/200], Loss:0.3252\n",
      "Epoch[70/200], Loss:0.3248\n",
      "Epoch[75/200], Loss:0.3244\n",
      "Epoch[80/200], Loss:0.3240\n",
      "Epoch[85/200], Loss:0.3236\n",
      "Epoch[90/200], Loss:0.3232\n",
      "Epoch[95/200], Loss:0.3228\n",
      "Epoch[100/200], Loss:0.3224\n",
      "Epoch[105/200], Loss:0.3220\n",
      "Epoch[110/200], Loss:0.3216\n",
      "Epoch[115/200], Loss:0.3213\n",
      "Epoch[120/200], Loss:0.3209\n",
      "Epoch[125/200], Loss:0.3205\n",
      "Epoch[130/200], Loss:0.3201\n",
      "Epoch[135/200], Loss:0.3197\n",
      "Epoch[140/200], Loss:0.3193\n",
      "Epoch[145/200], Loss:0.3189\n",
      "Epoch[150/200], Loss:0.3185\n",
      "Epoch[155/200], Loss:0.3182\n",
      "Epoch[160/200], Loss:0.3178\n",
      "Epoch[165/200], Loss:0.3174\n",
      "Epoch[170/200], Loss:0.3170\n",
      "Epoch[175/200], Loss:0.3166\n",
      "Epoch[180/200], Loss:0.3163\n",
      "Epoch[185/200], Loss:0.3159\n",
      "Epoch[190/200], Loss:0.3155\n",
      "Epoch[195/200], Loss:0.3151\n",
      "Epoch[200/200], Loss:0.3147\n"
     ]
    }
   ],
   "source": [
    "for epoch in range(num_epochs): # 100번 학습한다...for를 100번 반복\n",
    "    # numpy arrays를 torch의 Tensor로 만들어서 머신에 입력해야 한다.\n",
    "    inputs = torch.from_numpy(x_train) # X\n",
    "    targets = torch.from_numpy(y_train) # y\n",
    "    \n",
    "    # Forward Pass\n",
    "    pred = model(inputs)\n",
    "    loss = loss_function(pred, targets)\n",
    "    \n",
    "    # Backward and Optimization\n",
    "    optimizer.zero_grad() # 이 부분이 가장 먼저 나와야 한다...초기화\n",
    "    loss.backward()\n",
    "    optimizer.step()\n",
    "    \n",
    "    if(epoch+1) % 5 == 0:\n",
    "        print('Epoch[{}/{}], Loss:{:.4f}'.format(epoch+1,num_epochs, loss.item()))"
   ]
  },
  {
   "cell_type": "markdown",
   "metadata": {},
   "source": [
    "#### Plot the Graph"
   ]
  },
  {
   "cell_type": "code",
   "execution_count": null,
   "metadata": {},
   "outputs": [],
   "source": [
    "# 시각화 할때는 다시 Tensor 에서 Numpy로 다시 만들어줘야 한다.\n",
    "predict= model(torch.from_numpy(x_train)).detach().numpy()\n",
    "plt.plot(x_train,y_train,'ro',label='Original Data')\n",
    "plt.plot(x_train, predict, label = 'Predict Line')\n",
    "plt.legend()\n",
    "plt.show()\n",
    "\n",
    "torch.save(model.state_dict(), 'model.ckpt')"
   ]
  }
 ],
 "metadata": {
  "kernelspec": {
   "display_name": "Python 3",
   "language": "python",
   "name": "python3"
  },
  "language_info": {
   "codemirror_mode": {
    "name": "ipython",
    "version": 3
   },
   "file_extension": ".py",
   "mimetype": "text/x-python",
   "name": "python",
   "nbconvert_exporter": "python",
   "pygments_lexer": "ipython3",
   "version": "3.8.5"
  }
 },
 "nbformat": 4,
 "nbformat_minor": 4
}
