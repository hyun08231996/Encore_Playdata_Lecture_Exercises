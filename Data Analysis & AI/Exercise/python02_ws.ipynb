{
 "cells": [
  {
   "cell_type": "markdown",
   "metadata": {},
   "source": [
    "## Problem\n",
    "### 1. 리스트\n",
    "    출력 결과를 보고 나머지 코드를 완성하세요\n"
   ]
  },
  {
   "cell_type": "code",
   "execution_count": 19,
   "metadata": {},
   "outputs": [
    {
     "data": {
      "text/plain": [
       "[5, 7, 10, 6, 9, 3]"
      ]
     },
     "execution_count": 19,
     "metadata": {},
     "output_type": "execute_result"
    }
   ],
   "source": [
    "myList = [3,9,6,10,7,5]\n",
    "myList[:3], myList[3:] = myList[3:], myList[:3]\n",
    "myList[0], myList[1], myList[2] = myList[2], myList[1], myList[0]\n",
    "myList[3], myList[4], myList[5] = myList[5], myList[4], myList[3]\n",
    "myList\n",
    "#list(reversed(myList))\n",
    "#myList = myList[::-1]\n",
    "#myList"
   ]
  },
  {
   "cell_type": "code",
   "execution_count": 20,
   "metadata": {},
   "outputs": [],
   "source": [
    "tempL=[0,1,2]"
   ]
  },
  {
   "cell_type": "code",
   "execution_count": 21,
   "metadata": {},
   "outputs": [
    {
     "data": {
      "text/plain": [
       "[3, 9, 6, 10, 7, 5, 0, 1, 2]"
      ]
     },
     "execution_count": 21,
     "metadata": {},
     "output_type": "execute_result"
    }
   ],
   "source": [
    "myList = [3,9,6,10,7,5]\n",
    "myList.extend(tempL)\n",
    "#myList+tempL\n",
    "myList"
   ]
  },
  {
   "cell_type": "markdown",
   "metadata": {},
   "source": [
    "### 2. 딕셔너리\n",
    "    출력 결과를 보고 나머지 코드를 완성하세요"
   ]
  },
  {
   "cell_type": "code",
   "execution_count": 23,
   "metadata": {},
   "outputs": [
    {
     "data": {
      "text/plain": [
       "{'철수': '95', '영희': '88', '길동': '92'}"
      ]
     },
     "execution_count": 23,
     "metadata": {},
     "output_type": "execute_result"
    }
   ],
   "source": [
    "score={\n",
    "    \"철수\":\"95\",\n",
    "    \"영희\":\"88\",\n",
    "    \"길동\":\"92\"\n",
    "}\n",
    "score"
   ]
  },
  {
   "cell_type": "code",
   "execution_count": 25,
   "metadata": {},
   "outputs": [
    {
     "data": {
      "text/plain": [
       "'92'"
      ]
     },
     "execution_count": 25,
     "metadata": {},
     "output_type": "execute_result"
    }
   ],
   "source": [
    "# 수지 : 87  추가\n",
    "# 길동은 삭제\n",
    "score[\"수지\"] = \"87\"\n",
    "score.pop(\"길동\")\n"
   ]
  },
  {
   "cell_type": "code",
   "execution_count": 26,
   "metadata": {},
   "outputs": [
    {
     "data": {
      "text/plain": [
       "{'철수': '95', '영희': '88', '수지': '87'}"
      ]
     },
     "execution_count": 26,
     "metadata": {},
     "output_type": "execute_result"
    }
   ],
   "source": [
    "score"
   ]
  },
  {
   "cell_type": "code",
   "execution_count": 27,
   "metadata": {},
   "outputs": [
    {
     "data": {
      "text/plain": [
       "{'철수': '95', '영희': '88', '수지': '87', '민영': '85', '두리': '55', '남일': '69'}"
      ]
     },
     "execution_count": 27,
     "metadata": {},
     "output_type": "execute_result"
    }
   ],
   "source": [
    "# 민영,두리, 남일 한꺼번에 추가\n",
    "addInfo = {'민영': '85', '두리': '55', '남일': '69'}\n",
    "score.update(addInfo)\n",
    "score"
   ]
  },
  {
   "cell_type": "code",
   "execution_count": 29,
   "metadata": {},
   "outputs": [
    {
     "name": "stdout",
     "output_type": "stream",
     "text": [
      "이름과 점수를 입력하시요 : 민호, 88\n",
      "이미 존재합니다.\n"
     ]
    },
    {
     "data": {
      "text/plain": [
       "{'철수': '95',\n",
       " '영희': '88',\n",
       " '수지': '87',\n",
       " '민영': '85',\n",
       " '두리': '55',\n",
       " '남일': '69',\n",
       " '민호': '88'}"
      ]
     },
     "execution_count": 29,
     "metadata": {},
     "output_type": "execute_result"
    }
   ],
   "source": [
    "# 다음은 input()을 사용해서 이름 점수를 ,를 기준으로 각각 입력하고\n",
    "# score에 들어있지 않은 키값이라면 score에 추가하는 로직을 작성\n",
    "# 최종적으로 결과를 출력받는다.\n",
    "\n",
    "# ex) 이름과 점수를 , 기준으로 입력하세요 >> 민호, 88\n",
    "\n",
    "#\n",
    "data = input('이름과 점수를 입력하시요 : ').split(\", \")\n",
    "flag = False;\n",
    "for i in score.keys():\n",
    "    if i == data[0]:\n",
    "        print('이미 존재합니다.')\n",
    "        flag = True;\n",
    "        break\n",
    "if flag == False:\n",
    "    score[data[0]] = data[1]\n",
    "'''\n",
    "if not(data[0] in score):\n",
    "    score[data[0]]=data[1]\n",
    "print(score)\n",
    "'''\n",
    "score"
   ]
  },
  {
   "cell_type": "markdown",
   "metadata": {},
   "source": [
    "### 3. for문\n",
    "   "
   ]
  },
  {
   "cell_type": "code",
   "execution_count": 34,
   "metadata": {},
   "outputs": [
    {
     "name": "stdout",
     "output_type": "stream",
     "text": [
      "result.h\n",
      "intra.c\n"
     ]
    }
   ],
   "source": [
    "filenames = ['result.h', 'intra.c', 'run.py']\n",
    "\n",
    "# filenames 에서 파일의 확장자가 'h' 이거나 'c' 인 파일만 출력\n",
    "for file in filenames:\n",
    "    if file.split('.')[1] == 'h' or file.split('.')[1] == 'c':\n",
    "        print(file)\n",
    "'''\n",
    "for i in filenames:\n",
    "    if(i.endswith(\".h\") or i.endswith(\".c\")):\n",
    "        print(i)\n",
    "'''"
   ]
  },
  {
   "cell_type": "code",
   "execution_count": 41,
   "metadata": {},
   "outputs": [
    {
     "data": {
      "text/plain": [
       "220"
      ]
     },
     "execution_count": 41,
     "metadata": {},
     "output_type": "execute_result"
    }
   ],
   "source": [
    "subTotal=0\n",
    "total=0\n",
    "\n",
    "# 1~10까지의 누적합을 출력\n",
    "for i in range(1,11):\n",
    "    subTotal += i\n",
    "    total += subTotal\n",
    "total"
   ]
  }
 ],
 "metadata": {
  "kernelspec": {
   "display_name": "Python 3",
   "language": "python",
   "name": "python3"
  },
  "language_info": {
   "codemirror_mode": {
    "name": "ipython",
    "version": 3
   },
   "file_extension": ".py",
   "mimetype": "text/x-python",
   "name": "python",
   "nbconvert_exporter": "python",
   "pygments_lexer": "ipython3",
   "version": "3.8.5"
  }
 },
 "nbformat": 4,
 "nbformat_minor": 4
}
