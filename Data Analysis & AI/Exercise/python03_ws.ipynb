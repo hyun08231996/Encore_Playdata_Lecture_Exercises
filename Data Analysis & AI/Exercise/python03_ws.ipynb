{
 "cells": [
  {
   "cell_type": "markdown",
   "metadata": {},
   "source": [
    "## Problem\n",
    "### 1.입력된 화폐를 원화로 환산 시키는 코드를 작성하세요\n",
    "    "
   ]
  },
  {
   "cell_type": "code",
   "execution_count": 3,
   "metadata": {},
   "outputs": [],
   "source": [
    "exchangeList = {\n",
    "    \"달러\":1160,\n",
    "    \"엔\":10.61,\n",
    "    \"유로\":1297,\n",
    "    \"위안\":165.93\n",
    "}"
   ]
  },
  {
   "cell_type": "code",
   "execution_count": 6,
   "metadata": {},
   "outputs": [
    {
     "name": "stdout",
     "output_type": "stream",
     "text": [
      "입력 : 100 달러\n",
      "결과 : 116000.00 원\n"
     ]
    }
   ],
   "source": [
    "#입력 : 100 달러\n",
    "#결과 : 116000.00 원\n",
    "data = input('입력 : ').split(' ')\n",
    "won = 0.00\n",
    "if data[1] == '달러':\n",
    "    won = exchangeList[data[1]] * float(data[0])\n",
    "    print('결과 : %0.2f 원' %(won))\n",
    "elif data[1] == '엔':\n",
    "    won = exchangeList[data[1]] * float(data[0])\n",
    "    print('결과 : %0.2f 원' %(won))\n",
    "elif data[1] == '유로':\n",
    "    won = exchangeList[data[1]] * float(data[0])\n",
    "    print('결과 : %0.2f 원' %(won))\n",
    "elif data[1] == '위안':\n",
    "    won = exchangeList[data[1]] * float(data[0])\n",
    "    print('결과 : %0.2f 원' %(won))\n",
    "else:\n",
    "    print('잘못입력되었습니다.')\n"
   ]
  },
  {
   "cell_type": "markdown",
   "metadata": {},
   "source": [
    "### 2.아래 출력 결과가 되도록 딕셔너리와 반복문을 사용하세요"
   ]
  },
  {
   "cell_type": "code",
   "execution_count": 7,
   "metadata": {},
   "outputs": [],
   "source": [
    "months1 = [\"월\", \"화\", \"수\", \"목\", \"금\", \"토\",  \"일\"]\n",
    "months2 = [\"Monday\", \"Tueaday\", \"Wednesday\", \"Thuraday\", \"Friday\", \"Saturday\", \"Sunday\"]"
   ]
  },
  {
   "cell_type": "code",
   "execution_count": 10,
   "metadata": {},
   "outputs": [
    {
     "data": {
      "text/plain": [
       "{'월': 'Monday',\n",
       " '화': 'Tueaday',\n",
       " '수': 'Wednesday',\n",
       " '목': 'Thuraday',\n",
       " '금': 'Friday',\n",
       " '토': 'Saturday',\n",
       " '일': 'Sunday'}"
      ]
     },
     "execution_count": 10,
     "metadata": {},
     "output_type": "execute_result"
    }
   ],
   "source": [
    "'''\n",
    "{'월': 'Monday',\n",
    " '화': 'Tueaday',\n",
    " '수': 'Wednesday',\n",
    " '목': 'Thuraday',\n",
    " '금': 'Friday',\n",
    " '토': 'Saturday',\n",
    " '일': 'Sunday'}\n",
    "'''\n",
    "monthDict = {}\n",
    "for i in range(len(months1)):\n",
    "    monthDict[months1[i]] = months2[i]\n",
    "monthDict"
   ]
  },
  {
   "cell_type": "markdown",
   "metadata": {},
   "source": [
    "### 3. 실행창에 입력된 문장중에서 모음의 갯수를 찾아서 출력하세요"
   ]
  },
  {
   "cell_type": "code",
   "execution_count": 13,
   "metadata": {},
   "outputs": [
    {
     "name": "stdout",
     "output_type": "stream",
     "text": [
      "문장을 입력하세요. \n",
      "hello\n",
      "2\n"
     ]
    }
   ],
   "source": [
    "sentence = input(\"문장을 입력하세요. \\n\").lower()\n",
    "#문장을 입력하세요. \n",
    "#hello\n",
    "#2\n",
    "cnt = 0\n",
    "for letter in sentence:\n",
    "    if letter == 'a' or letter == 'e' or letter == 'i' or letter == 'o' or letter == 'u':\n",
    "        cnt = cnt+1\n",
    "print(cnt)"
   ]
  }
 ],
 "metadata": {
  "kernelspec": {
   "display_name": "Python 3",
   "language": "python",
   "name": "python3"
  },
  "language_info": {
   "codemirror_mode": {
    "name": "ipython",
    "version": 3
   },
   "file_extension": ".py",
   "mimetype": "text/x-python",
   "name": "python",
   "nbconvert_exporter": "python",
   "pygments_lexer": "ipython3",
   "version": "3.8.5"
  }
 },
 "nbformat": 4,
 "nbformat_minor": 4
}
