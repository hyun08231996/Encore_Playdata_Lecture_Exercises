{
 "cells": [
  {
   "cell_type": "markdown",
   "metadata": {},
   "source": [
    "### Load Data\n",
    "    ScikitLearn DataSet\n",
    "    유방암 데이터셋\n",
    "    DecisionTree Classification"
   ]
  },
  {
   "cell_type": "code",
   "execution_count": 1,
   "metadata": {},
   "outputs": [],
   "source": [
    "from sklearn.tree import DecisionTreeClassifier\n",
    "from sklearn.datasets import load_breast_cancer\n",
    "from sklearn.model_selection import train_test_split\n",
    "import numpy as np\n",
    "\n",
    "cancer = load_breast_cancer()\n",
    "# cancer "
   ]
  },
  {
   "cell_type": "markdown",
   "metadata": {},
   "source": [
    "### Model 생성과 학습하기"
   ]
  },
  {
   "cell_type": "code",
   "execution_count": 3,
   "metadata": {},
   "outputs": [
    {
     "data": {
      "text/plain": [
       "DecisionTreeClassifier(random_state=0)"
      ]
     },
     "execution_count": 3,
     "metadata": {},
     "output_type": "execute_result"
    }
   ],
   "source": [
    "'''\n",
    "stratify=cancer.target\n",
    "지정한 데이터의 비율을 유지하는 옵션\n",
    "stratify 매개변수의 값을 Y로 전달하면\n",
    "훈련세트, 테스트세트 데이터에 있는 라벨(클래스, y)의 비율이\n",
    "원본 데이터셋 라벨비율과 동일하게 유지된다\n",
    "'''\n",
    "X_train, X_test, y_train, y_test = train_test_split(cancer.data, cancer.target, random_state=42, stratify=cancer.target)\n",
    "tree = DecisionTreeClassifier(random_state=0)\n",
    "\n",
    "tree.fit(X_train,y_train)"
   ]
  },
  {
   "cell_type": "markdown",
   "metadata": {},
   "source": [
    "### 평가하기 - Training VS Test"
   ]
  },
  {
   "cell_type": "code",
   "execution_count": 4,
   "metadata": {},
   "outputs": [
    {
     "name": "stdout",
     "output_type": "stream",
     "text": [
      "Training DataSet 정확도:1.000000\n",
      "Test DataSet 정확도:0.937063\n"
     ]
    }
   ],
   "source": [
    "print('Training DataSet 정확도:{:3f}'.format(tree.score(X_train,y_train)))\n",
    "print('Test DataSet 정확도:{:3f}'.format(tree.score(X_test,y_test)))"
   ]
  },
  {
   "cell_type": "markdown",
   "metadata": {},
   "source": [
    "### 가지치기"
   ]
  },
  {
   "cell_type": "code",
   "execution_count": 7,
   "metadata": {},
   "outputs": [
    {
     "name": "stdout",
     "output_type": "stream",
     "text": [
      "Training DataSet 정확도:0.976526\n",
      "Test DataSet 정확도:0.944056\n"
     ]
    }
   ],
   "source": [
    "#모델 생성시 옵션을 부여한다.\n",
    "tree = DecisionTreeClassifier(min_samples_split=30, random_state=0)\n",
    "tree.fit(X_train, y_train)\n",
    "\n",
    "print('Training DataSet 정확도:{:3f}'.format(tree.score(X_train,y_train)))\n",
    "print('Test DataSet 정확도:{:3f}'.format(tree.score(X_test,y_test)))"
   ]
  },
  {
   "cell_type": "markdown",
   "metadata": {},
   "source": [
    "### 특성 중요도\n",
    "    결정트리 모델을 생성하고 수행하게되면\n",
    "    결과적으로 속성의 중요도를 알 수 있는 특성 중요도 인스턴스가 생성된다.\n",
    "    \n",
    "    결정트리를 만드는데 있어서\n",
    "    어떤 의사결정, 조건, 질문, 특징, 속성으로 결정되는가... 다 같은 말이다.\n",
    "    \n",
    "    특성 중요도는\n",
    "    Tree모델을 생성해서 학습시키고 나면 내부적으로 생성되는 인스턴스이다.\n",
    "    트리구조상 상위에 있는 특성, 속성이 중요한 것으로 지정되며\n",
    "    트리계층을 내려갈수록 중요도가 떨어지는데, 이것은 필요없는 속성으로 바로\n",
    "    간주되어서는 위험한 발상이다.\n",
    "    특성 중요도는 트리의 계층구조와 밀접한 연관을 가진다.\n",
    "    \n",
    "    머신러닝의 Flow를 짚어보면,\n",
    "    1. 데이터분석(로드된 데이터에서 속성을 추출|추출된 속성들을 정제, 가공)\n",
    "    2. 결정트리 모델 생성, 학습을 진행\n",
    "    3. 특성중요도가 도출 --- 학습하고 있는 속성들 30개 중에서 중요한 속성과\n",
    "       반면에 덜 중요한 속성들이 구분된다.\n",
    "    4. 3번의 작업을 바탕으로 어떤 특성이 중요한지 사용자, 의뢰인에게 알려줄 수 있고\n",
    "       해당 특성 정보를 이용해서 다시 더 효율적인 작업을 진행, \n",
    "       추후 성능을 좀더 높이는데 활용할 수 있다.\n",
    "       결과적으로 속성이 많을떄 그리 기여도가 크지 않은 속성을 제거함으로써\n",
    "       오버핏팅의 가능성을 줄여줄 수 있다."
   ]
  },
  {
   "cell_type": "code",
   "execution_count": 8,
   "metadata": {},
   "outputs": [
    {
     "name": "stdout",
     "output_type": "stream",
     "text": [
      "특성중요도:\n",
      "[0.         0.         0.         0.         0.         0.\n",
      " 0.         0.         0.         0.         0.01057372 0.05018448\n",
      " 0.         0.00258721 0.00250475 0.         0.         0.\n",
      " 0.         0.         0.75365346 0.03501711 0.         0.\n",
      " 0.         0.         0.01885926 0.12662001 0.         0.        ]\n"
     ]
    }
   ],
   "source": [
    "print('특성중요도:\\n{}'.format(tree.feature_importances_))"
   ]
  },
  {
   "cell_type": "markdown",
   "metadata": {},
   "source": [
    "### 특성 중요도 시각화"
   ]
  },
  {
   "cell_type": "code",
   "execution_count": 9,
   "metadata": {},
   "outputs": [],
   "source": [
    "import matplotlib.pyplot as plt\n",
    "import numpy as np"
   ]
  },
  {
   "cell_type": "code",
   "execution_count": 11,
   "metadata": {},
   "outputs": [
    {
     "data": {
      "image/png": "[encoded data removed]",
      "text/plain": [
       "<Figure size 432x288 with 1 Axes>"
      ]
     },
     "metadata": {
      "needs_background": "light"
     },
     "output_type": "display_data"
    }
   ],
   "source": [
    "def plot_feature_importances_cancer(model):\n",
    "    n_features = cancer.data.shape[1]\n",
    "    plt.barh(range(n_features), model.feature_importances_, align='center')\n",
    "    plt.yticks(np.arange(n_features),cancer.feature_names)\n",
    "    plt.xlabel('Feature Importance')\n",
    "    plt.ylabel('Features')\n",
    "    plt.ylim(-1, n_features)\n",
    "\n",
    "plot_feature_importances_cancer(tree)"
   ]
  },
  {
   "cell_type": "code",
   "execution_count": 15,
   "metadata": {},
   "outputs": [
    {
     "data": {
      "image/svg+xml": [
       "<?xml version=\"1.0\" encoding=\"UTF-8\" standalone=\"no\"?>\r\n",
       "<!DOCTYPE svg PUBLIC \"-//W3C//DTD SVG 1.1//EN\"\r\n",
       " \"http://www.w3.org/Graphics/SVG/1.1/DTD/svg11.dtd\">\r\n",
       "<!-- Generated by graphviz version 2.38.0 (20140413.2041)\r\n",
       " -->\r\n",
       "<!-- Title: Tree Pages: 1 -->\r\n",
       "<svg width=\"886pt\" height=\"790pt\"\r\n",
       " viewBox=\"0.00 0.00 885.50 790.00\" xmlns=\"http://www.w3.org/2000/svg\" xmlns:xlink=\"http://www.w3.org/1999/xlink\">\r\n",
       "<g id=\"graph0\" class=\"graph\" transform=\"scale(1 1) rotate(0) translate(4 786)\">\r\n",
       "<title>Tree</title>\r\n",
       "<polygon fill=\"white\" stroke=\"none\" points=\"-4,4 -4,-786 881.5,-786 881.5,4 -4,4\"/>\r\n",
       "<!-- 0 -->\r\n",
       "<g id=\"node1\" class=\"node\"><title>0</title>\r\n",
       "<polygon fill=\"#afd7f4\" stroke=\"black\" points=\"578.5,-782 431.5,-782 431.5,-699 578.5,-699 578.5,-782\"/>\r\n",
       "<text text-anchor=\"middle\" x=\"505\" y=\"-766.8\" font-family=\"Times New Roman,serif\" font-size=\"14.00\">worst radius &lt;= 16.795</text>\r\n",
       "<text text-anchor=\"middle\" x=\"505\" y=\"-751.8\" font-family=\"Times New Roman,serif\" font-size=\"14.00\">gini = 0.468</text>\r\n",
       "<text text-anchor=\"middle\" x=\"505\" y=\"-736.8\" font-family=\"Times New Roman,serif\" font-size=\"14.00\">samples = 426</text>\r\n",
       "<text text-anchor=\"middle\" x=\"505\" y=\"-721.8\" font-family=\"Times New Roman,serif\" font-size=\"14.00\">value = [159, 267]</text>\r\n",
       "<text text-anchor=\"middle\" x=\"505\" y=\"-706.8\" font-family=\"Times New Roman,serif\" font-size=\"14.00\">class = benign</text>\r\n",
       "</g>\r\n",
       "<!-- 1 -->\r\n",
       "<g id=\"node2\" class=\"node\"><title>1</title>\r\n",
       "<polygon fill=\"#4ca6e8\" stroke=\"black\" points=\"508.5,-663 317.5,-663 317.5,-580 508.5,-580 508.5,-663\"/>\r\n",
       "<text text-anchor=\"middle\" x=\"413\" y=\"-647.8\" font-family=\"Times New Roman,serif\" font-size=\"14.00\">worst concave points &lt;= 0.136</text>\r\n",
       "<text text-anchor=\"middle\" x=\"413\" y=\"-632.8\" font-family=\"Times New Roman,serif\" font-size=\"14.00\">gini = 0.161</text>\r\n",
       "<text text-anchor=\"middle\" x=\"413\" y=\"-617.8\" font-family=\"Times New Roman,serif\" font-size=\"14.00\">samples = 284</text>\r\n",
       "<text text-anchor=\"middle\" x=\"413\" y=\"-602.8\" font-family=\"Times New Roman,serif\" font-size=\"14.00\">value = [25, 259]</text>\r\n",
       "<text text-anchor=\"middle\" x=\"413\" y=\"-587.8\" font-family=\"Times New Roman,serif\" font-size=\"14.00\">class = benign</text>\r\n",
       "</g>\r\n",
       "<!-- 0&#45;&gt;1 -->\r\n",
       "<g id=\"edge1\" class=\"edge\"><title>0&#45;&gt;1</title>\r\n",
       "<path fill=\"none\" stroke=\"black\" d=\"M473.081,-698.907C466.016,-689.923 458.461,-680.315 451.176,-671.05\"/>\r\n",
       "<polygon fill=\"black\" stroke=\"black\" points=\"453.795,-668.718 444.863,-663.021 448.292,-673.045 453.795,-668.718\"/>\r\n",
       "<text text-anchor=\"middle\" x=\"441.893\" y=\"-684.144\" font-family=\"Times New Roman,serif\" font-size=\"14.00\">True</text>\r\n",
       "</g>\r\n",
       "<!-- 14 -->\r\n",
       "<g id=\"node15\" class=\"node\"><title>14</title>\r\n",
       "<polygon fill=\"#e78945\" stroke=\"black\" points=\"667,-663 527,-663 527,-580 667,-580 667,-663\"/>\r\n",
       "<text text-anchor=\"middle\" x=\"597\" y=\"-647.8\" font-family=\"Times New Roman,serif\" font-size=\"14.00\">texture error &lt;= 0.473</text>\r\n",
       "<text text-anchor=\"middle\" x=\"597\" y=\"-632.8\" font-family=\"Times New Roman,serif\" font-size=\"14.00\">gini = 0.106</text>\r\n",
       "<text text-anchor=\"middle\" x=\"597\" y=\"-617.8\" font-family=\"Times New Roman,serif\" font-size=\"14.00\">samples = 142</text>\r\n",
       "<text text-anchor=\"middle\" x=\"597\" y=\"-602.8\" font-family=\"Times New Roman,serif\" font-size=\"14.00\">value = [134, 8]</text>\r\n",
       "<text text-anchor=\"middle\" x=\"597\" y=\"-587.8\" font-family=\"Times New Roman,serif\" font-size=\"14.00\">class = malignant</text>\r\n",
       "</g>\r\n",
       "<!-- 0&#45;&gt;14 -->\r\n",
       "<g id=\"edge14\" class=\"edge\"><title>0&#45;&gt;14</title>\r\n",
       "<path fill=\"none\" stroke=\"black\" d=\"M536.919,-698.907C543.984,-689.923 551.539,-680.315 558.824,-671.05\"/>\r\n",
       "<polygon fill=\"black\" stroke=\"black\" points=\"561.708,-673.045 565.137,-663.021 556.205,-668.718 561.708,-673.045\"/>\r\n",
       "<text text-anchor=\"middle\" x=\"568.107\" y=\"-684.144\" font-family=\"Times New Roman,serif\" font-size=\"14.00\">False</text>\r\n",
       "</g>\r\n",
       "<!-- 2 -->\r\n",
       "<g id=\"node3\" class=\"node\"><title>2</title>\r\n",
       "<polygon fill=\"#3c9fe5\" stroke=\"black\" points=\"335,-544 199,-544 199,-461 335,-461 335,-544\"/>\r\n",
       "<text text-anchor=\"middle\" x=\"267\" y=\"-528.8\" font-family=\"Times New Roman,serif\" font-size=\"14.00\">radius error &lt;= 1.048</text>\r\n",
       "<text text-anchor=\"middle\" x=\"267\" y=\"-513.8\" font-family=\"Times New Roman,serif\" font-size=\"14.00\">gini = 0.031</text>\r\n",
       "<text text-anchor=\"middle\" x=\"267\" y=\"-498.8\" font-family=\"Times New Roman,serif\" font-size=\"14.00\">samples = 252</text>\r\n",
       "<text text-anchor=\"middle\" x=\"267\" y=\"-483.8\" font-family=\"Times New Roman,serif\" font-size=\"14.00\">value = [4, 248]</text>\r\n",
       "<text text-anchor=\"middle\" x=\"267\" y=\"-468.8\" font-family=\"Times New Roman,serif\" font-size=\"14.00\">class = benign</text>\r\n",
       "</g>\r\n",
       "<!-- 1&#45;&gt;2 -->\r\n",
       "<g id=\"edge2\" class=\"edge\"><title>1&#45;&gt;2</title>\r\n",
       "<path fill=\"none\" stroke=\"black\" d=\"M362.346,-579.907C350.455,-570.379 337.689,-560.148 325.487,-550.37\"/>\r\n",
       "<polygon fill=\"black\" stroke=\"black\" points=\"327.557,-547.543 317.564,-544.021 323.179,-553.006 327.557,-547.543\"/>\r\n",
       "</g>\r\n",
       "<!-- 11 -->\r\n",
       "<g id=\"node12\" class=\"node\"><title>11</title>\r\n",
       "<polygon fill=\"#f3c3a1\" stroke=\"black\" points=\"497,-544 353,-544 353,-461 497,-461 497,-544\"/>\r\n",
       "<text text-anchor=\"middle\" x=\"425\" y=\"-528.8\" font-family=\"Times New Roman,serif\" font-size=\"14.00\">worst texture &lt;= 25.62</text>\r\n",
       "<text text-anchor=\"middle\" x=\"425\" y=\"-513.8\" font-family=\"Times New Roman,serif\" font-size=\"14.00\">gini = 0.451</text>\r\n",
       "<text text-anchor=\"middle\" x=\"425\" y=\"-498.8\" font-family=\"Times New Roman,serif\" font-size=\"14.00\">samples = 32</text>\r\n",
       "<text text-anchor=\"middle\" x=\"425\" y=\"-483.8\" font-family=\"Times New Roman,serif\" font-size=\"14.00\">value = [21, 11]</text>\r\n",
       "<text text-anchor=\"middle\" x=\"425\" y=\"-468.8\" font-family=\"Times New Roman,serif\" font-size=\"14.00\">class = malignant</text>\r\n",
       "</g>\r\n",
       "<!-- 1&#45;&gt;11 -->\r\n",
       "<g id=\"edge11\" class=\"edge\"><title>1&#45;&gt;11</title>\r\n",
       "<path fill=\"none\" stroke=\"black\" d=\"M417.163,-579.907C418.02,-571.558 418.931,-562.671 419.818,-554.02\"/>\r\n",
       "<polygon fill=\"black\" stroke=\"black\" points=\"423.305,-554.326 420.844,-544.021 416.342,-553.611 423.305,-554.326\"/>\r\n",
       "</g>\r\n",
       "<!-- 3 -->\r\n",
       "<g id=\"node4\" class=\"node\"><title>3</title>\r\n",
       "<polygon fill=\"#3b9ee5\" stroke=\"black\" points=\"201.5,-425 32.5,-425 32.5,-342 201.5,-342 201.5,-425\"/>\r\n",
       "<text text-anchor=\"middle\" x=\"117\" y=\"-409.8\" font-family=\"Times New Roman,serif\" font-size=\"14.00\">smoothness error &lt;= 0.003</text>\r\n",
       "<text text-anchor=\"middle\" x=\"117\" y=\"-394.8\" font-family=\"Times New Roman,serif\" font-size=\"14.00\">gini = 0.024</text>\r\n",
       "<text text-anchor=\"middle\" x=\"117\" y=\"-379.8\" font-family=\"Times New Roman,serif\" font-size=\"14.00\">samples = 251</text>\r\n",
       "<text text-anchor=\"middle\" x=\"117\" y=\"-364.8\" font-family=\"Times New Roman,serif\" font-size=\"14.00\">value = [3, 248]</text>\r\n",
       "<text text-anchor=\"middle\" x=\"117\" y=\"-349.8\" font-family=\"Times New Roman,serif\" font-size=\"14.00\">class = benign</text>\r\n",
       "</g>\r\n",
       "<!-- 2&#45;&gt;3 -->\r\n",
       "<g id=\"edge3\" class=\"edge\"><title>2&#45;&gt;3</title>\r\n",
       "<path fill=\"none\" stroke=\"black\" d=\"M214.958,-460.907C202.742,-451.379 189.626,-441.148 177.089,-431.37\"/>\r\n",
       "<polygon fill=\"black\" stroke=\"black\" points=\"178.987,-428.411 168.95,-425.021 174.682,-433.931 178.987,-428.411\"/>\r\n",
       "</g>\r\n",
       "<!-- 10 -->\r\n",
       "<g id=\"node11\" class=\"node\"><title>10</title>\r\n",
       "<polygon fill=\"#e58139\" stroke=\"black\" points=\"332.5,-417.5 219.5,-417.5 219.5,-349.5 332.5,-349.5 332.5,-417.5\"/>\r\n",
       "<text text-anchor=\"middle\" x=\"276\" y=\"-402.3\" font-family=\"Times New Roman,serif\" font-size=\"14.00\">gini = 0.0</text>\r\n",
       "<text text-anchor=\"middle\" x=\"276\" y=\"-387.3\" font-family=\"Times New Roman,serif\" font-size=\"14.00\">samples = 1</text>\r\n",
       "<text text-anchor=\"middle\" x=\"276\" y=\"-372.3\" font-family=\"Times New Roman,serif\" font-size=\"14.00\">value = [1, 0]</text>\r\n",
       "<text text-anchor=\"middle\" x=\"276\" y=\"-357.3\" font-family=\"Times New Roman,serif\" font-size=\"14.00\">class = malignant</text>\r\n",
       "</g>\r\n",
       "<!-- 2&#45;&gt;10 -->\r\n",
       "<g id=\"edge10\" class=\"edge\"><title>2&#45;&gt;10</title>\r\n",
       "<path fill=\"none\" stroke=\"black\" d=\"M270.123,-460.907C270.946,-450.204 271.837,-438.615 272.671,-427.776\"/>\r\n",
       "<polygon fill=\"black\" stroke=\"black\" points=\"276.171,-427.906 273.449,-417.667 269.192,-427.369 276.171,-427.906\"/>\r\n",
       "</g>\r\n",
       "<!-- 4 -->\r\n",
       "<g id=\"node5\" class=\"node\"><title>4</title>\r\n",
       "<polygon fill=\"#7bbeee\" stroke=\"black\" points=\"102.5,-298.5 5.5,-298.5 5.5,-230.5 102.5,-230.5 102.5,-298.5\"/>\r\n",
       "<text text-anchor=\"middle\" x=\"54\" y=\"-283.3\" font-family=\"Times New Roman,serif\" font-size=\"14.00\">gini = 0.375</text>\r\n",
       "<text text-anchor=\"middle\" x=\"54\" y=\"-268.3\" font-family=\"Times New Roman,serif\" font-size=\"14.00\">samples = 4</text>\r\n",
       "<text text-anchor=\"middle\" x=\"54\" y=\"-253.3\" font-family=\"Times New Roman,serif\" font-size=\"14.00\">value = [1, 3]</text>\r\n",
       "<text text-anchor=\"middle\" x=\"54\" y=\"-238.3\" font-family=\"Times New Roman,serif\" font-size=\"14.00\">class = benign</text>\r\n",
       "</g>\r\n",
       "<!-- 3&#45;&gt;4 -->\r\n",
       "<g id=\"edge4\" class=\"edge\"><title>3&#45;&gt;4</title>\r\n",
       "<path fill=\"none\" stroke=\"black\" d=\"M95.1425,-341.907C89.2008,-330.873 82.7526,-318.898 76.7622,-307.773\"/>\r\n",
       "<polygon fill=\"black\" stroke=\"black\" points=\"79.6818,-305.812 71.8591,-298.667 73.5185,-309.131 79.6818,-305.812\"/>\r\n",
       "</g>\r\n",
       "<!-- 5 -->\r\n",
       "<g id=\"node6\" class=\"node\"><title>5</title>\r\n",
       "<polygon fill=\"#3b9ee5\" stroke=\"black\" points=\"239,-306 121,-306 121,-223 239,-223 239,-306\"/>\r\n",
       "<text text-anchor=\"middle\" x=\"180\" y=\"-290.8\" font-family=\"Times New Roman,serif\" font-size=\"14.00\">area error &lt;= 48.7</text>\r\n",
       "<text text-anchor=\"middle\" x=\"180\" y=\"-275.8\" font-family=\"Times New Roman,serif\" font-size=\"14.00\">gini = 0.016</text>\r\n",
       "<text text-anchor=\"middle\" x=\"180\" y=\"-260.8\" font-family=\"Times New Roman,serif\" font-size=\"14.00\">samples = 247</text>\r\n",
       "<text text-anchor=\"middle\" x=\"180\" y=\"-245.8\" font-family=\"Times New Roman,serif\" font-size=\"14.00\">value = [2, 245]</text>\r\n",
       "<text text-anchor=\"middle\" x=\"180\" y=\"-230.8\" font-family=\"Times New Roman,serif\" font-size=\"14.00\">class = benign</text>\r\n",
       "</g>\r\n",
       "<!-- 3&#45;&gt;5 -->\r\n",
       "<g id=\"edge5\" class=\"edge\"><title>3&#45;&gt;5</title>\r\n",
       "<path fill=\"none\" stroke=\"black\" d=\"M138.858,-341.907C143.549,-333.195 148.556,-323.897 153.404,-314.893\"/>\r\n",
       "<polygon fill=\"black\" stroke=\"black\" points=\"156.522,-316.485 158.181,-306.021 150.358,-313.166 156.522,-316.485\"/>\r\n",
       "</g>\r\n",
       "<!-- 6 -->\r\n",
       "<g id=\"node7\" class=\"node\"><title>6</title>\r\n",
       "<polygon fill=\"#3a9de5\" stroke=\"black\" points=\"183,-187 39,-187 39,-104 183,-104 183,-187\"/>\r\n",
       "<text text-anchor=\"middle\" x=\"111\" y=\"-171.8\" font-family=\"Times New Roman,serif\" font-size=\"14.00\">worst texture &lt;= 33.35</text>\r\n",
       "<text text-anchor=\"middle\" x=\"111\" y=\"-156.8\" font-family=\"Times New Roman,serif\" font-size=\"14.00\">gini = 0.008</text>\r\n",
       "<text text-anchor=\"middle\" x=\"111\" y=\"-141.8\" font-family=\"Times New Roman,serif\" font-size=\"14.00\">samples = 243</text>\r\n",
       "<text text-anchor=\"middle\" x=\"111\" y=\"-126.8\" font-family=\"Times New Roman,serif\" font-size=\"14.00\">value = [1, 242]</text>\r\n",
       "<text text-anchor=\"middle\" x=\"111\" y=\"-111.8\" font-family=\"Times New Roman,serif\" font-size=\"14.00\">class = benign</text>\r\n",
       "</g>\r\n",
       "<!-- 5&#45;&gt;6 -->\r\n",
       "<g id=\"edge6\" class=\"edge\"><title>5&#45;&gt;6</title>\r\n",
       "<path fill=\"none\" stroke=\"black\" d=\"M156.061,-222.907C150.923,-214.195 145.439,-204.897 140.129,-195.893\"/>\r\n",
       "<polygon fill=\"black\" stroke=\"black\" points=\"142.992,-193.857 134.897,-187.021 136.962,-197.412 142.992,-193.857\"/>\r\n",
       "</g>\r\n",
       "<!-- 9 -->\r\n",
       "<g id=\"node10\" class=\"node\"><title>9</title>\r\n",
       "<polygon fill=\"#7bbeee\" stroke=\"black\" points=\"298.5,-179.5 201.5,-179.5 201.5,-111.5 298.5,-111.5 298.5,-179.5\"/>\r\n",
       "<text text-anchor=\"middle\" x=\"250\" y=\"-164.3\" font-family=\"Times New Roman,serif\" font-size=\"14.00\">gini = 0.375</text>\r\n",
       "<text text-anchor=\"middle\" x=\"250\" y=\"-149.3\" font-family=\"Times New Roman,serif\" font-size=\"14.00\">samples = 4</text>\r\n",
       "<text text-anchor=\"middle\" x=\"250\" y=\"-134.3\" font-family=\"Times New Roman,serif\" font-size=\"14.00\">value = [1, 3]</text>\r\n",
       "<text text-anchor=\"middle\" x=\"250\" y=\"-119.3\" font-family=\"Times New Roman,serif\" font-size=\"14.00\">class = benign</text>\r\n",
       "</g>\r\n",
       "<!-- 5&#45;&gt;9 -->\r\n",
       "<g id=\"edge9\" class=\"edge\"><title>5&#45;&gt;9</title>\r\n",
       "<path fill=\"none\" stroke=\"black\" d=\"M204.286,-222.907C210.954,-211.763 218.196,-199.658 224.908,-188.439\"/>\r\n",
       "<polygon fill=\"black\" stroke=\"black\" points=\"228.026,-190.045 230.157,-179.667 222.019,-186.451 228.026,-190.045\"/>\r\n",
       "</g>\r\n",
       "<!-- 7 -->\r\n",
       "<g id=\"node8\" class=\"node\"><title>7</title>\r\n",
       "<polygon fill=\"#399de5\" stroke=\"black\" points=\"104,-68 0,-68 0,-0 104,-0 104,-68\"/>\r\n",
       "<text text-anchor=\"middle\" x=\"52\" y=\"-52.8\" font-family=\"Times New Roman,serif\" font-size=\"14.00\">gini = 0.0</text>\r\n",
       "<text text-anchor=\"middle\" x=\"52\" y=\"-37.8\" font-family=\"Times New Roman,serif\" font-size=\"14.00\">samples = 225</text>\r\n",
       "<text text-anchor=\"middle\" x=\"52\" y=\"-22.8\" font-family=\"Times New Roman,serif\" font-size=\"14.00\">value = [0, 225]</text>\r\n",
       "<text text-anchor=\"middle\" x=\"52\" y=\"-7.8\" font-family=\"Times New Roman,serif\" font-size=\"14.00\">class = benign</text>\r\n",
       "</g>\r\n",
       "<!-- 6&#45;&gt;7 -->\r\n",
       "<g id=\"edge7\" class=\"edge\"><title>6&#45;&gt;7</title>\r\n",
       "<path fill=\"none\" stroke=\"black\" d=\"M89.0306,-103.726C84.3619,-95.0615 79.4235,-85.8962 74.7272,-77.1802\"/>\r\n",
       "<polygon fill=\"black\" stroke=\"black\" points=\"77.7669,-75.4428 69.9422,-68.2996 71.6045,-78.7632 77.7669,-75.4428\"/>\r\n",
       "</g>\r\n",
       "<!-- 8 -->\r\n",
       "<g id=\"node9\" class=\"node\"><title>8</title>\r\n",
       "<polygon fill=\"#45a3e7\" stroke=\"black\" points=\"220,-68 122,-68 122,-0 220,-0 220,-68\"/>\r\n",
       "<text text-anchor=\"middle\" x=\"171\" y=\"-52.8\" font-family=\"Times New Roman,serif\" font-size=\"14.00\">gini = 0.105</text>\r\n",
       "<text text-anchor=\"middle\" x=\"171\" y=\"-37.8\" font-family=\"Times New Roman,serif\" font-size=\"14.00\">samples = 18</text>\r\n",
       "<text text-anchor=\"middle\" x=\"171\" y=\"-22.8\" font-family=\"Times New Roman,serif\" font-size=\"14.00\">value = [1, 17]</text>\r\n",
       "<text text-anchor=\"middle\" x=\"171\" y=\"-7.8\" font-family=\"Times New Roman,serif\" font-size=\"14.00\">class = benign</text>\r\n",
       "</g>\r\n",
       "<!-- 6&#45;&gt;8 -->\r\n",
       "<g id=\"edge8\" class=\"edge\"><title>6&#45;&gt;8</title>\r\n",
       "<path fill=\"none\" stroke=\"black\" d=\"M133.342,-103.726C138.09,-95.0615 143.112,-85.8962 147.888,-77.1802\"/>\r\n",
       "<polygon fill=\"black\" stroke=\"black\" points=\"151.018,-78.7513 152.754,-68.2996 144.879,-75.3875 151.018,-78.7513\"/>\r\n",
       "</g>\r\n",
       "<!-- 12 -->\r\n",
       "<g id=\"node13\" class=\"node\"><title>12</title>\r\n",
       "<polygon fill=\"#7bbeee\" stroke=\"black\" points=\"464.5,-417.5 367.5,-417.5 367.5,-349.5 464.5,-349.5 464.5,-417.5\"/>\r\n",
       "<text text-anchor=\"middle\" x=\"416\" y=\"-402.3\" font-family=\"Times New Roman,serif\" font-size=\"14.00\">gini = 0.375</text>\r\n",
       "<text text-anchor=\"middle\" x=\"416\" y=\"-387.3\" font-family=\"Times New Roman,serif\" font-size=\"14.00\">samples = 12</text>\r\n",
       "<text text-anchor=\"middle\" x=\"416\" y=\"-372.3\" font-family=\"Times New Roman,serif\" font-size=\"14.00\">value = [3, 9]</text>\r\n",
       "<text text-anchor=\"middle\" x=\"416\" y=\"-357.3\" font-family=\"Times New Roman,serif\" font-size=\"14.00\">class = benign</text>\r\n",
       "</g>\r\n",
       "<!-- 11&#45;&gt;12 -->\r\n",
       "<g id=\"edge12\" class=\"edge\"><title>11&#45;&gt;12</title>\r\n",
       "<path fill=\"none\" stroke=\"black\" d=\"M421.877,-460.907C421.054,-450.204 420.163,-438.615 419.329,-427.776\"/>\r\n",
       "<polygon fill=\"black\" stroke=\"black\" points=\"422.808,-427.369 418.551,-417.667 415.829,-427.906 422.808,-427.369\"/>\r\n",
       "</g>\r\n",
       "<!-- 13 -->\r\n",
       "<g id=\"node14\" class=\"node\"><title>13</title>\r\n",
       "<polygon fill=\"#e88f4f\" stroke=\"black\" points=\"595.5,-417.5 482.5,-417.5 482.5,-349.5 595.5,-349.5 595.5,-417.5\"/>\r\n",
       "<text text-anchor=\"middle\" x=\"539\" y=\"-402.3\" font-family=\"Times New Roman,serif\" font-size=\"14.00\">gini = 0.18</text>\r\n",
       "<text text-anchor=\"middle\" x=\"539\" y=\"-387.3\" font-family=\"Times New Roman,serif\" font-size=\"14.00\">samples = 20</text>\r\n",
       "<text text-anchor=\"middle\" x=\"539\" y=\"-372.3\" font-family=\"Times New Roman,serif\" font-size=\"14.00\">value = [18, 2]</text>\r\n",
       "<text text-anchor=\"middle\" x=\"539\" y=\"-357.3\" font-family=\"Times New Roman,serif\" font-size=\"14.00\">class = malignant</text>\r\n",
       "</g>\r\n",
       "<!-- 11&#45;&gt;13 -->\r\n",
       "<g id=\"edge13\" class=\"edge\"><title>11&#45;&gt;13</title>\r\n",
       "<path fill=\"none\" stroke=\"black\" d=\"M464.552,-460.907C475.841,-449.321 488.141,-436.698 499.431,-425.111\"/>\r\n",
       "<polygon fill=\"black\" stroke=\"black\" points=\"502.212,-427.272 506.683,-417.667 497.198,-422.387 502.212,-427.272\"/>\r\n",
       "</g>\r\n",
       "<!-- 15 -->\r\n",
       "<g id=\"node16\" class=\"node\"><title>15</title>\r\n",
       "<polygon fill=\"#399de5\" stroke=\"black\" points=\"634.5,-536.5 537.5,-536.5 537.5,-468.5 634.5,-468.5 634.5,-536.5\"/>\r\n",
       "<text text-anchor=\"middle\" x=\"586\" y=\"-521.3\" font-family=\"Times New Roman,serif\" font-size=\"14.00\">gini = 0.0</text>\r\n",
       "<text text-anchor=\"middle\" x=\"586\" y=\"-506.3\" font-family=\"Times New Roman,serif\" font-size=\"14.00\">samples = 5</text>\r\n",
       "<text text-anchor=\"middle\" x=\"586\" y=\"-491.3\" font-family=\"Times New Roman,serif\" font-size=\"14.00\">value = [0, 5]</text>\r\n",
       "<text text-anchor=\"middle\" x=\"586\" y=\"-476.3\" font-family=\"Times New Roman,serif\" font-size=\"14.00\">class = benign</text>\r\n",
       "</g>\r\n",
       "<!-- 14&#45;&gt;15 -->\r\n",
       "<g id=\"edge15\" class=\"edge\"><title>14&#45;&gt;15</title>\r\n",
       "<path fill=\"none\" stroke=\"black\" d=\"M593.184,-579.907C592.177,-569.204 591.088,-557.615 590.069,-546.776\"/>\r\n",
       "<polygon fill=\"black\" stroke=\"black\" points=\"593.539,-546.295 589.118,-536.667 586.57,-546.951 593.539,-546.295\"/>\r\n",
       "</g>\r\n",
       "<!-- 16 -->\r\n",
       "<g id=\"node17\" class=\"node\"><title>16</title>\r\n",
       "<polygon fill=\"#e6843d\" stroke=\"black\" points=\"813.5,-544 652.5,-544 652.5,-461 813.5,-461 813.5,-544\"/>\r\n",
       "<text text-anchor=\"middle\" x=\"733\" y=\"-528.8\" font-family=\"Times New Roman,serif\" font-size=\"14.00\">worst concavity &lt;= 0.191</text>\r\n",
       "<text text-anchor=\"middle\" x=\"733\" y=\"-513.8\" font-family=\"Times New Roman,serif\" font-size=\"14.00\">gini = 0.043</text>\r\n",
       "<text text-anchor=\"middle\" x=\"733\" y=\"-498.8\" font-family=\"Times New Roman,serif\" font-size=\"14.00\">samples = 137</text>\r\n",
       "<text text-anchor=\"middle\" x=\"733\" y=\"-483.8\" font-family=\"Times New Roman,serif\" font-size=\"14.00\">value = [134, 3]</text>\r\n",
       "<text text-anchor=\"middle\" x=\"733\" y=\"-468.8\" font-family=\"Times New Roman,serif\" font-size=\"14.00\">class = malignant</text>\r\n",
       "</g>\r\n",
       "<!-- 14&#45;&gt;16 -->\r\n",
       "<g id=\"edge16\" class=\"edge\"><title>14&#45;&gt;16</title>\r\n",
       "<path fill=\"none\" stroke=\"black\" d=\"M644.185,-579.907C655.155,-570.469 666.926,-560.343 678.194,-550.649\"/>\r\n",
       "<polygon fill=\"black\" stroke=\"black\" points=\"680.601,-553.196 685.899,-544.021 676.036,-547.889 680.601,-553.196\"/>\r\n",
       "</g>\r\n",
       "<!-- 17 -->\r\n",
       "<g id=\"node18\" class=\"node\"><title>17</title>\r\n",
       "<polygon fill=\"#bddef6\" stroke=\"black\" points=\"746.5,-417.5 649.5,-417.5 649.5,-349.5 746.5,-349.5 746.5,-417.5\"/>\r\n",
       "<text text-anchor=\"middle\" x=\"698\" y=\"-402.3\" font-family=\"Times New Roman,serif\" font-size=\"14.00\">gini = 0.48</text>\r\n",
       "<text text-anchor=\"middle\" x=\"698\" y=\"-387.3\" font-family=\"Times New Roman,serif\" font-size=\"14.00\">samples = 5</text>\r\n",
       "<text text-anchor=\"middle\" x=\"698\" y=\"-372.3\" font-family=\"Times New Roman,serif\" font-size=\"14.00\">value = [2, 3]</text>\r\n",
       "<text text-anchor=\"middle\" x=\"698\" y=\"-357.3\" font-family=\"Times New Roman,serif\" font-size=\"14.00\">class = benign</text>\r\n",
       "</g>\r\n",
       "<!-- 16&#45;&gt;17 -->\r\n",
       "<g id=\"edge17\" class=\"edge\"><title>16&#45;&gt;17</title>\r\n",
       "<path fill=\"none\" stroke=\"black\" d=\"M720.857,-460.907C717.622,-450.094 714.117,-438.376 710.846,-427.441\"/>\r\n",
       "<polygon fill=\"black\" stroke=\"black\" points=\"714.141,-426.244 707.922,-417.667 707.435,-428.251 714.141,-426.244\"/>\r\n",
       "</g>\r\n",
       "<!-- 18 -->\r\n",
       "<g id=\"node19\" class=\"node\"><title>18</title>\r\n",
       "<polygon fill=\"#e58139\" stroke=\"black\" points=\"877.5,-417.5 764.5,-417.5 764.5,-349.5 877.5,-349.5 877.5,-417.5\"/>\r\n",
       "<text text-anchor=\"middle\" x=\"821\" y=\"-402.3\" font-family=\"Times New Roman,serif\" font-size=\"14.00\">gini = 0.0</text>\r\n",
       "<text text-anchor=\"middle\" x=\"821\" y=\"-387.3\" font-family=\"Times New Roman,serif\" font-size=\"14.00\">samples = 132</text>\r\n",
       "<text text-anchor=\"middle\" x=\"821\" y=\"-372.3\" font-family=\"Times New Roman,serif\" font-size=\"14.00\">value = [132, 0]</text>\r\n",
       "<text text-anchor=\"middle\" x=\"821\" y=\"-357.3\" font-family=\"Times New Roman,serif\" font-size=\"14.00\">class = malignant</text>\r\n",
       "</g>\r\n",
       "<!-- 16&#45;&gt;18 -->\r\n",
       "<g id=\"edge18\" class=\"edge\"><title>16&#45;&gt;18</title>\r\n",
       "<path fill=\"none\" stroke=\"black\" d=\"M763.531,-460.907C772.08,-449.542 781.379,-437.178 789.956,-425.774\"/>\r\n",
       "<polygon fill=\"black\" stroke=\"black\" points=\"792.84,-427.763 796.054,-417.667 787.246,-423.555 792.84,-427.763\"/>\r\n",
       "</g>\r\n",
       "</g>\r\n",
       "</svg>\r\n"
      ],
      "text/plain": [
       "<graphviz.files.Source at 0x1e0e0e4d100>"
      ]
     },
     "metadata": {},
     "output_type": "display_data"
    }
   ],
   "source": [
    "import graphviz\n",
    "from sklearn.tree import export_graphviz\n",
    "\n",
    "export_graphviz(tree, out_file='cancer_tree.dot',\n",
    "               class_names=cancer.target_names,\n",
    "               feature_names=cancer.feature_names,\n",
    "                filled=True\n",
    "               )\n",
    "with open('cancer_tree.dot', encoding='utf-8') as f:\n",
    "    dot_graph = f.read()\n",
    "dot = graphviz.Source(dot_graph)\n",
    "display(dot)"
   ]
  },
  {
   "cell_type": "code",
   "execution_count": null,
   "metadata": {},
   "outputs": [],
   "source": []
  },
  {
   "cell_type": "code",
   "execution_count": null,
   "metadata": {},
   "outputs": [],
   "source": []
  }
 ],
 "metadata": {
  "kernelspec": {
   "display_name": "Python 3",
   "language": "python",
   "name": "python3"
  },
  "language_info": {
   "codemirror_mode": {
    "name": "ipython",
    "version": 3
   },
   "file_extension": ".py",
   "mimetype": "text/x-python",
   "name": "python",
   "nbconvert_exporter": "python",
   "pygments_lexer": "ipython3",
   "version": "3.8.5"
  }
 },
 "nbformat": 4,
 "nbformat_minor": 4
}
