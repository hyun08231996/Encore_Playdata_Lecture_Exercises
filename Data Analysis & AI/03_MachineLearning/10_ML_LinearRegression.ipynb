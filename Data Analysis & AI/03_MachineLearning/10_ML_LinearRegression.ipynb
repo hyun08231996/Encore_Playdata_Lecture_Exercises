{
 "cells": [
  {
   "cell_type": "markdown",
   "metadata": {},
   "source": [
    "## 선형회귀(Linear Regression) - 심화\n",
    "\n",
    "    선형회귀는 쉽게 접근하면 쉽고 어렵게 접근하면 매우 어려운 기술이다.\n",
    "    전제로 2가지가 정의되어 있어야 하는데\n",
    "    1) 기본적인 가설 - Hypothesis Function\n",
    "    2) Cost Function\n",
    "        Cost는 비용으로 적게 드는 것이 좋은것\n",
    "        Cost가 안드는 것이 가장 Best\n",
    "        머신러닝 , 딥러닝에서는 학습을 진행하면서 모델(머신)이 멈춰야 할 시점을\n",
    "        알아야 한다.\n",
    "        바로 Cost가 0이 되는 시점이 Running을 멈춰야 하는 시점이다.\n",
    "        \n",
    "        기본적으로 예측값과 실제값 사이의 오차가 적을수록 0에 수렴된다.\n",
    "     3) HyperParameter - learning_rate\n",
    "        Cost를 줄여나가는 학습을 하면서 주의할 부분은\n",
    "        학습이 진행됨에 따라서 학습의 속도를 줄이는 것이다.\n",
    "        경사를 내려가는 보폭을 줄이는 것과 같은 원리로 Cost가 0이 되는 지점을\n",
    "        통과하지 않기 위해서는 필수적으로 지정해야 하는 속성이다.\n",
    "        "
   ]
  },
  {
   "cell_type": "markdown",
   "metadata": {},
   "source": [
    "#### Linear Regression을 활용하여 섭씨온도(C, Celsius)를 화씨온도(F, Fahrenheit)로 변환해주는 공식을 만들수 있다. \n",
    "섭씨온도과 화씨온도의 관계는 앞에서 우리가 살펴보았던 선형회귀의 관계를 가지고 있다.\n",
    "#### <span style=\"color:red\"> H(x) = aX + b 에서처럼, F = C*1.8 +32  </span>\n",
    "이때, 1.8과 32라는 값을 모르고 있다고 가정하고, 머신러닝 알고리즘을 이용해서 주어진 섭씨 온도와 화씨온도 데이타 만으로 이 값들을 찾아내는 실습을 진행해보도록 하겠다.\n",
    "<u><span style=\"color:red\">[Chain Rule 증명](https://www.khanacademy.org/math/ap-calculus-ab/ab-differentiation-2-new/ab-3-1b/a/proving-the-chain-rule) </span></u>"
   ]
  },
  {
   "cell_type": "markdown",
   "metadata": {},
   "source": [
    "### Configuration (or prerequisite)"
   ]
  },
  {
   "cell_type": "code",
   "execution_count": 1,
   "metadata": {},
   "outputs": [],
   "source": [
    "%matplotlib inline\n",
    "import numpy as np\n",
    "import pandas as pd\n",
    "import matplotlib.pyplot as plt"
   ]
  },
  {
   "cell_type": "markdown",
   "metadata": {},
   "source": [
    "### Generate Dataset"
   ]
  },
  {
   "cell_type": "markdown",
   "metadata": {},
   "source": [
    "####  <span style=\"color:blue\">선형회귀 문제를 다루기 위한 학습용 데이타셋을 생성</span>\n",
    "0도에서 100도 사이의 값을 갖는 섭씨온도 데이타를 100개 만들어보자\n",
    "이 데이타가 해당 머신러닝 알고리즘에서 사실상 Feature가 될 것이다."
   ]
  },
  {
   "cell_type": "code",
   "execution_count": 3,
   "metadata": {},
   "outputs": [
    {
     "data": {
      "text/plain": [
       "array([71,  2, 27, 32, 14,  1, 41, 38, 93, 76, 39, 34, 36, 34, 70, 15, 50,\n",
       "       92, 26, 76, 40, 73, 76, 40, 81, 38, 56, 26, 18,  0, 35, 21, 85, 99,\n",
       "       31, 36, 70, 58, 52, 96,  3, 41, 49, 53, 69,  5, 40, 78, 61, 81, 71,\n",
       "       40,  3, 65, 91, 59, 84, 89, 14, 15, 15, 32, 14,  8, 44, 24, 66, 25,\n",
       "       33, 27, 75, 89, 85, 57, 29, 41, 73, 44,  1, 28, 39, 60, 87, 17, 57,\n",
       "       83, 44, 22, 13, 41, 82, 21, 90, 52, 93, 93, 49, 57, 72, 99])"
      ]
     },
     "execution_count": 3,
     "metadata": {},
     "output_type": "execute_result"
    }
   ],
   "source": [
    "# C = np.random.randint(0,100)\n",
    "C = np.random.randint(0,100,size=100)\n",
    "C"
   ]
  },
  {
   "cell_type": "code",
   "execution_count": 4,
   "metadata": {},
   "outputs": [
    {
     "data": {
      "text/plain": [
       "array([71,  2, 27, 32, 14,  1, 41, 38, 93, 76])"
      ]
     },
     "execution_count": 4,
     "metadata": {},
     "output_type": "execute_result"
    }
   ],
   "source": [
    "'''\n",
    "섭씨온도 데이터를 담고있는 C의 shape를 확인합니다. (100,)로 100개의 데이터가 있습니다.\n",
    "C의 첫 10개 값을 확인합니다. \n",
    "'''\n",
    "C.shape\n",
    "C[:10]\n"
   ]
  },
  {
   "cell_type": "markdown",
   "metadata": {},
   "source": [
    "### 섭씨온도 데이타에 상응하는 화씨온도를 생성\n",
    "#### <span style=\"color:blue\">우리가 알고있던 기존의 섭씨-화씨변환 공식을 적용해서 위 섭씨온도 데이타에 대응하는 화씨온도 데이타를 생성.</span> \n",
    "이 데이타가 오늘 다룰 학습 모델 알고리즘의 Label이 될 것이다."
   ]
  },
  {
   "cell_type": "code",
   "execution_count": 5,
   "metadata": {},
   "outputs": [
    {
     "data": {
      "text/plain": [
       "array([159.8,  35.6,  80.6,  89.6,  57.2,  33.8, 105.8, 100.4, 199.4,\n",
       "       168.8, 102.2,  93.2,  96.8,  93.2, 158. ,  59. , 122. , 197.6,\n",
       "        78.8, 168.8, 104. , 163.4, 168.8, 104. , 177.8, 100.4, 132.8,\n",
       "        78.8,  64.4,  32. ,  95. ,  69.8, 185. , 210.2,  87.8,  96.8,\n",
       "       158. , 136.4, 125.6, 204.8,  37.4, 105.8, 120.2, 127.4, 156.2,\n",
       "        41. , 104. , 172.4, 141.8, 177.8, 159.8, 104. ,  37.4, 149. ,\n",
       "       195.8, 138.2, 183.2, 192.2,  57.2,  59. ,  59. ,  89.6,  57.2,\n",
       "        46.4, 111.2,  75.2, 150.8,  77. ,  91.4,  80.6, 167. , 192.2,\n",
       "       185. , 134.6,  84.2, 105.8, 163.4, 111.2,  33.8,  82.4, 102.2,\n",
       "       140. , 188.6,  62.6, 134.6, 181.4, 111.2,  71.6,  55.4, 105.8,\n",
       "       179.6,  69.8, 194. , 125.6, 199.4, 199.4, 120.2, 134.6, 161.6,\n",
       "       210.2])"
      ]
     },
     "execution_count": 5,
     "metadata": {},
     "output_type": "execute_result"
    }
   ],
   "source": [
    "F = C * 1.8 + 32\n",
    "F"
   ]
  },
  {
   "cell_type": "code",
   "execution_count": 6,
   "metadata": {},
   "outputs": [
    {
     "data": {
      "text/plain": [
       "array([159.8,  35.6,  80.6,  89.6,  57.2,  33.8, 105.8, 100.4, 199.4,\n",
       "       168.8])"
      ]
     },
     "execution_count": 6,
     "metadata": {},
     "output_type": "execute_result"
    }
   ],
   "source": [
    "F[:10]"
   ]
  },
  {
   "cell_type": "markdown",
   "metadata": {},
   "source": [
    "### Visualization\n",
    "    위에서 우리가 만든 \n",
    "    Feature(Celsius Temperature)\n",
    "    Label(Fahrenheit Temperature)\n",
    "    직관적으로 확인할수 있도록 matplot을 이용해서 시각화해보자."
   ]
  },
  {
   "cell_type": "code",
   "execution_count": 8,
   "metadata": {},
   "outputs": [
    {
     "data": {
      "image/png": "[encoded data removed]",
      "text/plain": [
       "<Figure size 432x288 with 1 Axes>"
      ]
     },
     "metadata": {
      "needs_background": "light"
     },
     "output_type": "display_data"
    }
   ],
   "source": [
    "plt.scatter(C,F)\n",
    "plt.xlabel('Celcius Temperature')\n",
    "plt.ylabel('Fahrenheit Temperature')\n",
    "plt.show()"
   ]
  },
  {
   "cell_type": "markdown",
   "metadata": {},
   "source": [
    "### Bias (편향 찾기) -- Weight는 1.8"
   ]
  },
  {
   "cell_type": "markdown",
   "metadata": {},
   "source": [
    "####  <span style=\"color:blue\">Weight는 1.8로 주고 Bias를 직관적으로 한번 찾아보겠다.</span>"
   ]
  },
  {
   "cell_type": "code",
   "execution_count": 9,
   "metadata": {},
   "outputs": [],
   "source": [
    "# 먼저 앞에서 만들어놓은 속성C, 라벨F를 각각 X, y에 다시 대입해보자\n",
    "X = C\n",
    "y = F"
   ]
  },
  {
   "cell_type": "code",
   "execution_count": 10,
   "metadata": {},
   "outputs": [
    {
     "data": {
      "text/plain": [
       "(1.8, 0.9914478130726925)"
      ]
     },
     "execution_count": 10,
     "metadata": {},
     "output_type": "execute_result"
    }
   ],
   "source": [
    "w = 1.8 # 이건 알고 있는거 그대로 대입\n",
    "# b는 랜덤한 값 넣어보자... 원래 정답은 32였다\n",
    "b = np.random.uniform(low=-1.0, high=1.0)\n",
    "\n",
    "w,b"
   ]
  },
  {
   "cell_type": "code",
   "execution_count": 11,
   "metadata": {},
   "outputs": [
    {
     "data": {
      "text/plain": [
       "array([128.79144781,   4.59144781,  49.59144781,  58.59144781,\n",
       "        26.19144781,   2.79144781,  74.79144781,  69.39144781,\n",
       "       168.39144781, 137.79144781])"
      ]
     },
     "execution_count": 11,
     "metadata": {},
     "output_type": "execute_result"
    }
   ],
   "source": [
    "y_predict = w * X + b\n",
    "y_predict[0:10]"
   ]
  },
  {
   "cell_type": "code",
   "execution_count": 12,
   "metadata": {},
   "outputs": [
    {
     "data": {
      "text/plain": [
       "[<matplotlib.lines.Line2D at 0x1fd37306e80>]"
      ]
     },
     "execution_count": 12,
     "metadata": {},
     "output_type": "execute_result"
    },
    {
     "data": {
      "image/png": "[encoded data removed]",
      "text/plain": [
       "<Figure size 432x288 with 1 Axes>"
      ]
     },
     "metadata": {
      "needs_background": "light"
     },
     "output_type": "display_data"
    }
   ],
   "source": [
    "plt.scatter(C,F)\n",
    "plt.plot(C,y_predict, c='r')"
   ]
  },
  {
   "cell_type": "code",
   "execution_count": 14,
   "metadata": {},
   "outputs": [
    {
     "data": {
      "text/plain": [
       "32.00000000000001"
      ]
     },
     "execution_count": 14,
     "metadata": {},
     "output_type": "execute_result"
    }
   ],
   "source": [
    "'''\n",
    "y_predict - y 는 오차\n",
    "이만큼의 오차만큼 bias에 다시 보정(수정)을 해주자\n",
    "'''\n",
    "b = b - (y_predict - y).mean()\n",
    "b"
   ]
  },
  {
   "cell_type": "markdown",
   "metadata": {},
   "source": [
    "#### 위에서 다시 보정한 bias 값으로 예측값을 다시 만든다."
   ]
  },
  {
   "cell_type": "code",
   "execution_count": 15,
   "metadata": {},
   "outputs": [
    {
     "data": {
      "text/plain": [
       "array([159.8,  35.6,  80.6,  89.6,  57.2,  33.8, 105.8, 100.4, 199.4,\n",
       "       168.8])"
      ]
     },
     "execution_count": 15,
     "metadata": {},
     "output_type": "execute_result"
    }
   ],
   "source": [
    "y_predict = w*X + b\n",
    "y_predict[:10]"
   ]
  },
  {
   "cell_type": "code",
   "execution_count": 16,
   "metadata": {},
   "outputs": [
    {
     "data": {
      "text/plain": [
       "[<matplotlib.lines.Line2D at 0x1fd3736d790>]"
      ]
     },
     "execution_count": 16,
     "metadata": {},
     "output_type": "execute_result"
    },
    {
     "data": {
      "image/png": "[encoded data removed]",
      "text/plain": [
       "<Figure size 432x288 with 1 Axes>"
      ]
     },
     "metadata": {
      "needs_background": "light"
     },
     "output_type": "display_data"
    }
   ],
   "source": [
    "plt.scatter(C,F)\n",
    "plt.plot(C,y_predict, c='r')"
   ]
  },
  {
   "cell_type": "markdown",
   "metadata": {},
   "source": [
    "### 가중치(Weight, W), 편향(Bias, B) 찾기"
   ]
  },
  {
   "cell_type": "markdown",
   "metadata": {},
   "source": [
    "#### 정규분포에 해당하는 w,b값을 랜덤하게 지정해서 초기화\n",
    "      실제값과 예측치 결과값과의 차이를 시각화해서 확인\n",
    "\n",
    "  "
   ]
  },
  {
   "cell_type": "markdown",
   "metadata": {},
   "source": [
    "#### 정규분포에 해당하는 w,b값을 랜덤하게 지정해서 초기화\n",
    "    실제값과 예측치 결과값과의 차이를 시각화해서 확인\n",
    "    아무리 랜덤한 값으로 학습을 한다고 하더라도 데이터의 특정한 분포가\n",
    "    없다면 학습이 이뤄지지 않는다.\n",
    "    앞에서와 마찬가지로 w,b에 해당하는 값을 랜덤하게 추출할 것이지만\n",
    "    여전히 uniform()함수를 이용해서 값을 추출하도록 한다."
   ]
  },
  {
   "cell_type": "code",
   "execution_count": 20,
   "metadata": {},
   "outputs": [
    {
     "data": {
      "text/plain": [
       "(0.21080350060783837, -0.7039117591630715)"
      ]
     },
     "execution_count": 20,
     "metadata": {},
     "output_type": "execute_result"
    }
   ],
   "source": [
    "w = np.random.uniform(low=-1.0,high=1.0)\n",
    "b = np.random.uniform(low=-1.0,high=1.0)\n",
    "w,b"
   ]
  },
  {
   "cell_type": "code",
   "execution_count": 21,
   "metadata": {},
   "outputs": [
    {
     "data": {
      "text/plain": [
       "array([14.26313678, -0.28230476,  4.98778276,  6.04180026,  2.24733725,\n",
       "       -0.49310826,  7.93903177,  7.30662126, 18.9008138 , 15.31715429])"
      ]
     },
     "execution_count": 21,
     "metadata": {},
     "output_type": "execute_result"
    }
   ],
   "source": [
    "y_predict = w * X +b\n",
    "y_predict[:10]"
   ]
  },
  {
   "cell_type": "code",
   "execution_count": 22,
   "metadata": {},
   "outputs": [
    {
     "data": {
      "text/plain": [
       "[<matplotlib.lines.Line2D at 0x1fd374cc4c0>]"
      ]
     },
     "execution_count": 22,
     "metadata": {},
     "output_type": "execute_result"
    },
    {
     "data": {
      "image/png": "[encoded data removed]",
      "text/plain": [
       "<Figure size 432x288 with 1 Axes>"
      ]
     },
     "metadata": {
      "needs_background": "light"
     },
     "output_type": "display_data"
    }
   ],
   "source": [
    "plt.scatter(C,F)\n",
    "plt.plot(C,y_predict, c='r')"
   ]
  },
  {
   "cell_type": "markdown",
   "metadata": {},
   "source": [
    "#### <span style=\"color:blue\">선형 회귀의 학습이 끝났으면, 이제 이 머신러닝 알고리즘을 활용하여 변환공식을 완성하고, 주어진 섭씨온도를 화씨온도로 변환(혹은 섭씨온도로 화씨온도를 예측)할 수 있습니다. 앞서 만들어준 데이터를 그대로 활용하여 주어진 섭씨온도(C)로 화씨온도를 예측해보겠습니다.</span>"
   ]
  },
  {
   "cell_type": "markdown",
   "metadata": {},
   "source": [
    "### Gradient Descent"
   ]
  },
  {
   "cell_type": "markdown",
   "metadata": {},
   "source": [
    "####  <span style=\"color:red\">이제 경사하강법(Gradient Descent)을 사용하여 섭씨온도를 화씨온도로 변환해줄 주 있는 공식을 찾아보겠다.</span>\n",
    "공식의 세부내용은 모른다치고, 두 변수(X,y)가 선형(Linear)과 관계있음을 가정(y=X * w + b)하여 가중치(weight)와 편차(bias)를 정의해 둔다. 그리고 경사하강법을 이용해서 선형회귀를 학습시킨다.\n",
    "학습이 완료되면, 얻어진 최적의 가중치와 편차로 섭씨온도를 화씨온도로 변환해주는 공식을 만들어 줄수 있다.\n",
    "학습은 모든 epoch이 끝날 때까지 반복할 수도 있지만, 여기선 오차(error)가 0.1 이하가 되면 학습을 종료하도록 한다."
   ]
  },
  {
   "cell_type": "code",
   "execution_count": 23,
   "metadata": {},
   "outputs": [
    {
     "name": "stdout",
     "output_type": "stream",
     "text": [
      "    0, w=2.216066, b=-0.510249, error=90.755171\n",
      "10000, w=2.042063, b=16.349676, error=6.596519\n",
      "20000, w=1.916533, b=24.465676, error=3.175673\n",
      "30000, w=1.856101, b=28.372852, error=1.528821\n",
      "40000, w=1.827008, b=30.253831, error=0.736000\n",
      "50000, w=1.813002, b=31.159366, error=0.354322\n",
      "60000, w=1.806259, b=31.595305, error=0.170577\n",
      "--------------------------------------------------------------------------------------------------------------------------------------------\n",
      "67306, w=1.803670, b=31.762748, error=0.099993\n"
     ]
    }
   ],
   "source": [
    "num_epoch = 100000 # 학습을 몇번 반복할지의 횟수를 지정, for문을 몇번 돌건지와 연결\n",
    "learning_rate = 0.0003 # 학습이 진행됨에 따라서 보폭을 결정하는 하이퍼파라미터\n",
    "\n",
    "# 정규분포안에 랜덤한 값으로 w,b를 얻어온다\n",
    "w = np.random.uniform(low=-1.0,high=1.0) # 가중치\n",
    "b = np.random.uniform(low=-1.0,high=1.0) # 편차\n",
    "\n",
    "for epoch in range(num_epoch):\n",
    "    y_predict = w * X + b # 일단 먼저 예측한 가설이 나온다.\n",
    "    \n",
    "    error = np.abs(y_predict - y).mean() # 현재 오차를 구한다. 오차는 MSE() 사용해도 무방\n",
    "    \n",
    "    # error(loss, cost)가 0에 가까워지면 멈추도록 한다.\n",
    "    if error < 0.1:\n",
    "        break\n",
    "        \n",
    "    # if 조건이 만족될떄까지 w,b값을 보정해 나가야 한다.\n",
    "    w = w - learning_rate * ((y_predict - y) * X).mean()\n",
    "    b = b - learning_rate * (y_predict - y).mean()\n",
    "    \n",
    "    if epoch % 10000 == 0:\n",
    "        print(f'{epoch:5}, w={w:.6f}, b={b:.6f}, error={error:.6f}')\n",
    "\n",
    "# 최종 결과를 출력\n",
    "print('--------------'*10)\n",
    "print(f'{epoch:5}, w={w:.6f}, b={b:.6f}, error={error:.6f}')\n",
    "    "
   ]
  },
  {
   "cell_type": "markdown",
   "metadata": {},
   "source": [
    "### Predict"
   ]
  },
  {
   "cell_type": "code",
   "execution_count": 24,
   "metadata": {},
   "outputs": [
    {
     "data": {
      "text/plain": [
       "array([159.82328739,  35.37008726,  80.46182644,  89.48017427,\n",
       "        57.01412206])"
      ]
     },
     "execution_count": 24,
     "metadata": {},
     "output_type": "execute_result"
    }
   ],
   "source": [
    "# 위에서 Cost 0.99일때 받은 w,b 값으로 가설을 다시 세워보자\n",
    "y_predict = w * C + b\n",
    "y_predict[:5]\n"
   ]
  },
  {
   "cell_type": "markdown",
   "metadata": {},
   "source": [
    "### DataFrame and Plot Visualization\n"
   ]
  },
  {
   "cell_type": "code",
   "execution_count": 26,
   "metadata": {},
   "outputs": [
    {
     "data": {
      "text/html": [
       "<div>\n",
       "<style scoped>\n",
       "    .dataframe tbody tr th:only-of-type {\n",
       "        vertical-align: middle;\n",
       "    }\n",
       "\n",
       "    .dataframe tbody tr th {\n",
       "        vertical-align: top;\n",
       "    }\n",
       "\n",
       "    .dataframe thead th {\n",
       "        text-align: right;\n",
       "    }\n",
       "</style>\n",
       "<table border=\"1\" class=\"dataframe\">\n",
       "  <thead>\n",
       "    <tr style=\"text-align: right;\">\n",
       "      <th></th>\n",
       "      <th>C</th>\n",
       "      <th>F</th>\n",
       "      <th>F(predict)</th>\n",
       "    </tr>\n",
       "  </thead>\n",
       "  <tbody>\n",
       "    <tr>\n",
       "      <th>0</th>\n",
       "      <td>71</td>\n",
       "      <td>159.8</td>\n",
       "      <td>159.823287</td>\n",
       "    </tr>\n",
       "    <tr>\n",
       "      <th>1</th>\n",
       "      <td>2</td>\n",
       "      <td>35.6</td>\n",
       "      <td>35.370087</td>\n",
       "    </tr>\n",
       "    <tr>\n",
       "      <th>2</th>\n",
       "      <td>27</td>\n",
       "      <td>80.6</td>\n",
       "      <td>80.461826</td>\n",
       "    </tr>\n",
       "    <tr>\n",
       "      <th>3</th>\n",
       "      <td>32</td>\n",
       "      <td>89.6</td>\n",
       "      <td>89.480174</td>\n",
       "    </tr>\n",
       "    <tr>\n",
       "      <th>4</th>\n",
       "      <td>14</td>\n",
       "      <td>57.2</td>\n",
       "      <td>57.014122</td>\n",
       "    </tr>\n",
       "    <tr>\n",
       "      <th>5</th>\n",
       "      <td>1</td>\n",
       "      <td>33.8</td>\n",
       "      <td>33.566418</td>\n",
       "    </tr>\n",
       "    <tr>\n",
       "      <th>6</th>\n",
       "      <td>41</td>\n",
       "      <td>105.8</td>\n",
       "      <td>105.713200</td>\n",
       "    </tr>\n",
       "    <tr>\n",
       "      <th>7</th>\n",
       "      <td>38</td>\n",
       "      <td>100.4</td>\n",
       "      <td>100.302192</td>\n",
       "    </tr>\n",
       "    <tr>\n",
       "      <th>8</th>\n",
       "      <td>93</td>\n",
       "      <td>199.4</td>\n",
       "      <td>199.504018</td>\n",
       "    </tr>\n",
       "    <tr>\n",
       "      <th>9</th>\n",
       "      <td>76</td>\n",
       "      <td>168.8</td>\n",
       "      <td>168.841635</td>\n",
       "    </tr>\n",
       "  </tbody>\n",
       "</table>\n",
       "</div>"
      ],
      "text/plain": [
       "    C      F  F(predict)\n",
       "0  71  159.8  159.823287\n",
       "1   2   35.6   35.370087\n",
       "2  27   80.6   80.461826\n",
       "3  32   89.6   89.480174\n",
       "4  14   57.2   57.014122\n",
       "5   1   33.8   33.566418\n",
       "6  41  105.8  105.713200\n",
       "7  38  100.4  100.302192\n",
       "8  93  199.4  199.504018\n",
       "9  76  168.8  168.841635"
      ]
     },
     "execution_count": 26,
     "metadata": {},
     "output_type": "execute_result"
    }
   ],
   "source": [
    "# 처음에 나왔던 섭씨, 화씨온도와 표로 예측한 온도를 비교해 보자\n",
    "result = pd.DataFrame({\"C\":C, \"F\":F, \"F(predict)\":y_predict})\n",
    "result.head(10)"
   ]
  },
  {
   "cell_type": "code",
   "execution_count": 27,
   "metadata": {},
   "outputs": [
    {
     "data": {
      "text/plain": [
       "[<matplotlib.lines.Line2D at 0x1fd374e27c0>]"
      ]
     },
     "execution_count": 27,
     "metadata": {},
     "output_type": "execute_result"
    },
    {
     "data": {
      "image/png": "[encoded data removed]",
      "text/plain": [
       "<Figure size 432x288 with 1 Axes>"
      ]
     },
     "metadata": {
      "needs_background": "light"
     },
     "output_type": "display_data"
    }
   ],
   "source": [
    "plt.scatter(C,F)\n",
    "plt.plot(C,y_predict, c='r')"
   ]
  }
 ],
 "metadata": {
  "kernelspec": {
   "display_name": "Python 3",
   "language": "python",
   "name": "python3"
  },
  "language_info": {
   "codemirror_mode": {
    "name": "ipython",
    "version": 3
   },
   "file_extension": ".py",
   "mimetype": "text/x-python",
   "name": "python",
   "nbconvert_exporter": "python",
   "pygments_lexer": "ipython3",
   "version": "3.8.5"
  }
 },
 "nbformat": 4,
 "nbformat_minor": 4
}
