{
 "cells": [
  {
   "cell_type": "code",
   "execution_count": 8,
   "metadata": {},
   "outputs": [
    {
     "name": "stdout",
     "output_type": "stream",
     "text": [
      "(30, 200)\n",
      "30\n",
      "200\n",
      "30 200\n"
     ]
    }
   ],
   "source": [
    "# 이 부분은 파이썬에서만 가능...\n",
    "def sum_and_multiply(a,b):\n",
    "    return a+b, a*b # 파이썬은 반환값 여러개 가능하다.\n",
    "\n",
    "result = sum_and_multiply(10,20)\n",
    "\n",
    "print(result)\n",
    "\n",
    "res1, res2 = sum_and_multiply(10,20)\n",
    "print(res1)\n",
    "print(res2)\n",
    "print(res1,res2)"
   ]
  },
  {
   "cell_type": "markdown",
   "metadata": {},
   "source": [
    "### 1. Module Configuration"
   ]
  },
  {
   "cell_type": "code",
   "execution_count": 12,
   "metadata": {},
   "outputs": [],
   "source": [
    "import pandas as pd\n",
    "from sklearn.svm import SVC\n",
    "\n",
    "# 추가\n",
    "from sklearn.model_selection import train_test_split\n",
    "\n",
    "#추가\n",
    "from sklearn.metrics import accuracy_score"
   ]
  },
  {
   "cell_type": "markdown",
   "metadata": {},
   "source": [
    "### 2. Data Loader"
   ]
  },
  {
   "cell_type": "code",
   "execution_count": 2,
   "metadata": {},
   "outputs": [
    {
     "data": {
      "text/html": [
       "<div>\n",
       "<style scoped>\n",
       "    .dataframe tbody tr th:only-of-type {\n",
       "        vertical-align: middle;\n",
       "    }\n",
       "\n",
       "    .dataframe tbody tr th {\n",
       "        vertical-align: top;\n",
       "    }\n",
       "\n",
       "    .dataframe thead th {\n",
       "        text-align: right;\n",
       "    }\n",
       "</style>\n",
       "<table border=\"1\" class=\"dataframe\">\n",
       "  <thead>\n",
       "    <tr style=\"text-align: right;\">\n",
       "      <th></th>\n",
       "      <th>sepal.length</th>\n",
       "      <th>sepal.width</th>\n",
       "      <th>petal.length</th>\n",
       "      <th>petal.width</th>\n",
       "      <th>variety</th>\n",
       "    </tr>\n",
       "  </thead>\n",
       "  <tbody>\n",
       "    <tr>\n",
       "      <th>0</th>\n",
       "      <td>5.1</td>\n",
       "      <td>3.5</td>\n",
       "      <td>1.4</td>\n",
       "      <td>0.2</td>\n",
       "      <td>Setosa</td>\n",
       "    </tr>\n",
       "    <tr>\n",
       "      <th>1</th>\n",
       "      <td>4.9</td>\n",
       "      <td>3.0</td>\n",
       "      <td>1.4</td>\n",
       "      <td>0.2</td>\n",
       "      <td>Setosa</td>\n",
       "    </tr>\n",
       "    <tr>\n",
       "      <th>2</th>\n",
       "      <td>4.7</td>\n",
       "      <td>3.2</td>\n",
       "      <td>1.3</td>\n",
       "      <td>0.2</td>\n",
       "      <td>Setosa</td>\n",
       "    </tr>\n",
       "    <tr>\n",
       "      <th>3</th>\n",
       "      <td>4.6</td>\n",
       "      <td>3.1</td>\n",
       "      <td>1.5</td>\n",
       "      <td>0.2</td>\n",
       "      <td>Setosa</td>\n",
       "    </tr>\n",
       "    <tr>\n",
       "      <th>4</th>\n",
       "      <td>5.0</td>\n",
       "      <td>3.6</td>\n",
       "      <td>1.4</td>\n",
       "      <td>0.2</td>\n",
       "      <td>Setosa</td>\n",
       "    </tr>\n",
       "    <tr>\n",
       "      <th>...</th>\n",
       "      <td>...</td>\n",
       "      <td>...</td>\n",
       "      <td>...</td>\n",
       "      <td>...</td>\n",
       "      <td>...</td>\n",
       "    </tr>\n",
       "    <tr>\n",
       "      <th>145</th>\n",
       "      <td>6.7</td>\n",
       "      <td>3.0</td>\n",
       "      <td>5.2</td>\n",
       "      <td>2.3</td>\n",
       "      <td>Virginica</td>\n",
       "    </tr>\n",
       "    <tr>\n",
       "      <th>146</th>\n",
       "      <td>6.3</td>\n",
       "      <td>2.5</td>\n",
       "      <td>5.0</td>\n",
       "      <td>1.9</td>\n",
       "      <td>Virginica</td>\n",
       "    </tr>\n",
       "    <tr>\n",
       "      <th>147</th>\n",
       "      <td>6.5</td>\n",
       "      <td>3.0</td>\n",
       "      <td>5.2</td>\n",
       "      <td>2.0</td>\n",
       "      <td>Virginica</td>\n",
       "    </tr>\n",
       "    <tr>\n",
       "      <th>148</th>\n",
       "      <td>6.2</td>\n",
       "      <td>3.4</td>\n",
       "      <td>5.4</td>\n",
       "      <td>2.3</td>\n",
       "      <td>Virginica</td>\n",
       "    </tr>\n",
       "    <tr>\n",
       "      <th>149</th>\n",
       "      <td>5.9</td>\n",
       "      <td>3.0</td>\n",
       "      <td>5.1</td>\n",
       "      <td>1.8</td>\n",
       "      <td>Virginica</td>\n",
       "    </tr>\n",
       "  </tbody>\n",
       "</table>\n",
       "<p>150 rows × 5 columns</p>\n",
       "</div>"
      ],
      "text/plain": [
       "     sepal.length  sepal.width  petal.length  petal.width    variety\n",
       "0             5.1          3.5           1.4          0.2     Setosa\n",
       "1             4.9          3.0           1.4          0.2     Setosa\n",
       "2             4.7          3.2           1.3          0.2     Setosa\n",
       "3             4.6          3.1           1.5          0.2     Setosa\n",
       "4             5.0          3.6           1.4          0.2     Setosa\n",
       "..            ...          ...           ...          ...        ...\n",
       "145           6.7          3.0           5.2          2.3  Virginica\n",
       "146           6.3          2.5           5.0          1.9  Virginica\n",
       "147           6.5          3.0           5.2          2.0  Virginica\n",
       "148           6.2          3.4           5.4          2.3  Virginica\n",
       "149           5.9          3.0           5.1          1.8  Virginica\n",
       "\n",
       "[150 rows x 5 columns]"
      ]
     },
     "execution_count": 2,
     "metadata": {},
     "output_type": "execute_result"
    }
   ],
   "source": [
    "csv = pd.read_csv('../data/iris.csv')\n",
    "csv"
   ]
  },
  {
   "cell_type": "markdown",
   "metadata": {},
   "source": [
    "### 3. Data Split and Shuffle"
   ]
  },
  {
   "cell_type": "code",
   "execution_count": 4,
   "metadata": {},
   "outputs": [],
   "source": [
    "label = csv['variety']\n",
    "feature = csv[['sepal.length','sepal.width','petal.length','petal.width']] # 2차원이기 때문에 [[]]\n",
    "feature\n",
    "label\n",
    "\n",
    "# Training | Test 데이터 분리 및 데이터 섞기\n",
    "# train_test_split함수 반환값이 4개인 점과 이 순서대로 받아줘야 한다...중요!!\n",
    "train_data,test_data,train_label,test_label = train_test_split(feature,label)"
   ]
  },
  {
   "cell_type": "code",
   "execution_count": 6,
   "metadata": {},
   "outputs": [
    {
     "name": "stdout",
     "output_type": "stream",
     "text": [
      "135     Virginica\n",
      "103     Virginica\n",
      "20         Setosa\n",
      "111     Virginica\n",
      "97     Versicolor\n",
      "          ...    \n",
      "106     Virginica\n",
      "58     Versicolor\n",
      "140     Virginica\n",
      "71     Versicolor\n",
      "88     Versicolor\n",
      "Name: variety, Length: 112, dtype: object\n",
      "******************************\n",
      "121     Virginica\n",
      "122     Virginica\n",
      "104     Virginica\n",
      "70     Versicolor\n",
      "130     Virginica\n",
      "2          Setosa\n",
      "134     Virginica\n",
      "109     Virginica\n",
      "112     Virginica\n",
      "31         Setosa\n",
      "101     Virginica\n",
      "23         Setosa\n",
      "61     Versicolor\n",
      "98     Versicolor\n",
      "133     Virginica\n",
      "146     Virginica\n",
      "85     Versicolor\n",
      "82     Versicolor\n",
      "94     Versicolor\n",
      "66     Versicolor\n",
      "63     Versicolor\n",
      "7          Setosa\n",
      "5          Setosa\n",
      "126     Virginica\n",
      "119     Virginica\n",
      "87     Versicolor\n",
      "53     Versicolor\n",
      "21         Setosa\n",
      "52     Versicolor\n",
      "28         Setosa\n",
      "9          Setosa\n",
      "93     Versicolor\n",
      "79     Versicolor\n",
      "86     Versicolor\n",
      "30         Setosa\n",
      "91     Versicolor\n",
      "10         Setosa\n",
      "81     Versicolor\n",
      "Name: variety, dtype: object\n"
     ]
    }
   ],
   "source": [
    "print(train_label)\n",
    "print('*'*30)\n",
    "print(test_label)"
   ]
  },
  {
   "cell_type": "markdown",
   "metadata": {},
   "source": [
    "### 4. Model Generation and Training"
   ]
  },
  {
   "cell_type": "code",
   "execution_count": 9,
   "metadata": {},
   "outputs": [
    {
     "data": {
      "text/plain": [
       "SVC()"
      ]
     },
     "execution_count": 9,
     "metadata": {},
     "output_type": "execute_result"
    }
   ],
   "source": [
    "model = SVC()\n",
    "#학습할때는 전체데이터를 학습시키는 것이 아니라\n",
    "# 학습용모델 데이터만 적용해야 한다.\n",
    "# 별다른 옵션을 사용하지 않으면 전체데이터의 75% 학습용으로 빠진다.\n",
    "model.fit(train_data,train_label)"
   ]
  },
  {
   "cell_type": "markdown",
   "metadata": {},
   "source": [
    "### 5. Predict"
   ]
  },
  {
   "cell_type": "code",
   "execution_count": 10,
   "metadata": {},
   "outputs": [
    {
     "name": "stdout",
     "output_type": "stream",
     "text": [
      "['Virginica' 'Virginica' 'Virginica' 'Virginica' 'Virginica' 'Setosa'\n",
      " 'Virginica' 'Virginica' 'Virginica' 'Setosa' 'Virginica' 'Setosa'\n",
      " 'Versicolor' 'Versicolor' 'Virginica' 'Virginica' 'Versicolor'\n",
      " 'Versicolor' 'Versicolor' 'Versicolor' 'Versicolor' 'Setosa' 'Setosa'\n",
      " 'Virginica' 'Versicolor' 'Versicolor' 'Versicolor' 'Setosa' 'Versicolor'\n",
      " 'Setosa' 'Setosa' 'Versicolor' 'Versicolor' 'Versicolor' 'Setosa'\n",
      " 'Versicolor' 'Setosa' 'Versicolor']\n"
     ]
    }
   ],
   "source": [
    "pred = model.predict(test_data)\n",
    "print(pred)"
   ]
  },
  {
   "cell_type": "code",
   "execution_count": 11,
   "metadata": {},
   "outputs": [
    {
     "name": "stdout",
     "output_type": "stream",
     "text": [
      "121     Virginica\n",
      "122     Virginica\n",
      "104     Virginica\n",
      "70     Versicolor\n",
      "130     Virginica\n",
      "2          Setosa\n",
      "134     Virginica\n",
      "109     Virginica\n",
      "112     Virginica\n",
      "31         Setosa\n",
      "101     Virginica\n",
      "23         Setosa\n",
      "61     Versicolor\n",
      "98     Versicolor\n",
      "133     Virginica\n",
      "146     Virginica\n",
      "85     Versicolor\n",
      "82     Versicolor\n",
      "94     Versicolor\n",
      "66     Versicolor\n",
      "63     Versicolor\n",
      "7          Setosa\n",
      "5          Setosa\n",
      "126     Virginica\n",
      "119     Virginica\n",
      "87     Versicolor\n",
      "53     Versicolor\n",
      "21         Setosa\n",
      "52     Versicolor\n",
      "28         Setosa\n",
      "9          Setosa\n",
      "93     Versicolor\n",
      "79     Versicolor\n",
      "86     Versicolor\n",
      "30         Setosa\n",
      "91     Versicolor\n",
      "10         Setosa\n",
      "81     Versicolor\n",
      "Name: variety, dtype: object\n"
     ]
    }
   ],
   "source": [
    "print(test_label)"
   ]
  },
  {
   "cell_type": "code",
   "execution_count": 14,
   "metadata": {},
   "outputs": [
    {
     "name": "stdout",
     "output_type": "stream",
     "text": [
      "94.73684210526315\n"
     ]
    }
   ],
   "source": [
    "# 예측한 값과 정답 사이의 정확도를 구햅ㄴ다.\n",
    "\n",
    "score = accuracy_score(pred,test_label)\n",
    "score\n",
    "'''\n",
    "score가 0~1사이의 값으로 나오기 때문에\n",
    "100을 곱해주면 퍼센트 값을 알 수 있다.\n",
    "'''\n",
    "print(score * 100)"
   ]
  },
  {
   "cell_type": "code",
   "execution_count": 16,
   "metadata": {},
   "outputs": [],
   "source": [
    "import graphviz"
   ]
  },
  {
   "cell_type": "code",
   "execution_count": null,
   "metadata": {},
   "outputs": [],
   "source": []
  },
  {
   "cell_type": "code",
   "execution_count": null,
   "metadata": {},
   "outputs": [],
   "source": []
  }
 ],
 "metadata": {
  "kernelspec": {
   "display_name": "Python 3",
   "language": "python",
   "name": "python3"
  },
  "language_info": {
   "codemirror_mode": {
    "name": "ipython",
    "version": 3
   },
   "file_extension": ".py",
   "mimetype": "text/x-python",
   "name": "python",
   "nbconvert_exporter": "python",
   "pygments_lexer": "ipython3",
   "version": "3.8.5"
  }
 },
 "nbformat": 4,
 "nbformat_minor": 4
}
